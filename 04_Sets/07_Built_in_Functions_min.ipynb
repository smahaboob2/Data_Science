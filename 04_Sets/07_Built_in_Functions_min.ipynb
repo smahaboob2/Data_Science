{
 "cells": [
  {
   "cell_type": "markdown",
   "metadata": {},
   "source": [
    "## Example 1: Find minimum among the given numbers"
   ]
  },
  {
   "cell_type": "code",
   "execution_count": 1,
   "metadata": {},
   "outputs": [
    {
     "name": "stdout",
     "output_type": "stream",
     "text": [
      "Minimum is: 1\n",
      "Minimum is: 2\n"
     ]
    }
   ],
   "source": [
    "# using min(arg1, arg2, *args)\n",
    "print('Minimum is:', min(1, 3, 2, 5, 4))\n",
    "\n",
    "# using min(iterable)\n",
    "num = [3, 2, 8, 5, 10, 6]\n",
    "print('Minimum is:', min(num))"
   ]
  },
  {
   "cell_type": "markdown",
   "metadata": {},
   "source": [
    "## Example 2: Find number whose sum of digits is smallest using key function"
   ]
  },
  {
   "cell_type": "code",
   "execution_count": 2,
   "metadata": {},
   "outputs": [
    {
     "name": "stdout",
     "output_type": "stream",
     "text": [
      "Minimum is: 100\n",
      "Minimum is: 10\n"
     ]
    }
   ],
   "source": [
    "def sumDigit(num):\n",
    "    sum = 0\n",
    "    while(num):\n",
    "        sum += num % 10\n",
    "        num = int(num / 10)\n",
    "    return sum\n",
    "\n",
    "# using min(arg1, arg2, *args, key)\n",
    "print('Minimum is:', min(100, 321, 267, 59, 40, key=sumDigit))\n",
    "\n",
    "# using min(iterable, key)\n",
    "num = [15, 300, 2700, 821, 52, 10, 6]\n",
    "print('Minimum is:', min(num, key=sumDigit))"
   ]
  },
  {
   "cell_type": "markdown",
   "metadata": {},
   "source": [
    "## Example 3: Find list with minimum length using key function"
   ]
  },
  {
   "cell_type": "code",
   "execution_count": 3,
   "metadata": {},
   "outputs": [
    {
     "name": "stdout",
     "output_type": "stream",
     "text": [
      "Minimum is: [12, 2]\n"
     ]
    }
   ],
   "source": [
    "num = [15, 300, 2700, 821]\n",
    "num1 = [12, 2]\n",
    "num2 = [34, 567, 78]\n",
    "\n",
    "# using min(iterable, *iterables, key)\n",
    "print('Minimum is:', min(num, num1, num2, key=len))"
   ]
  },
  {
   "cell_type": "code",
   "execution_count": null,
   "metadata": {},
   "outputs": [],
   "source": []
  }
 ],
 "metadata": {
  "kernelspec": {
   "display_name": "Python 3",
   "language": "python",
   "name": "python3"
  },
  "language_info": {
   "codemirror_mode": {
    "name": "ipython",
    "version": 3
   },
   "file_extension": ".py",
   "mimetype": "text/x-python",
   "name": "python",
   "nbconvert_exporter": "python",
   "pygments_lexer": "ipython3",
   "version": "3.7.4"
  }
 },
 "nbformat": 4,
 "nbformat_minor": 4
}
