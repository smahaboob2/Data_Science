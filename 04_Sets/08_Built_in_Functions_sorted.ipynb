{
 "cells": [
  {
   "cell_type": "markdown",
   "metadata": {},
   "source": [
    "## Example 1: Sort a given sequence: string, list and tuple"
   ]
  },
  {
   "cell_type": "code",
   "execution_count": 1,
   "metadata": {},
   "outputs": [
    {
     "name": "stdout",
     "output_type": "stream",
     "text": [
      "['a', 'e', 'i', 'o', 'u']\n",
      "['P', 'h', 'n', 'o', 't', 'y']\n",
      "['a', 'e', 'i', 'o', 'u']\n"
     ]
    }
   ],
   "source": [
    "# vowels list\n",
    "pyList = ['e', 'a', 'u', 'o', 'i']\n",
    "print(sorted(pyList))\n",
    "\n",
    "# string \n",
    "pyString = 'Python'\n",
    "print(sorted(pyString))\n",
    "\n",
    "# vowels tuple\n",
    "pyTuple = ('e', 'a', 'u', 'o', 'i')\n",
    "print(sorted(pyTuple))"
   ]
  },
  {
   "cell_type": "markdown",
   "metadata": {},
   "source": [
    "## Example 2: Sort a given collection in descending order: set, dictionary and frozen set"
   ]
  },
  {
   "cell_type": "code",
   "execution_count": 2,
   "metadata": {},
   "outputs": [
    {
     "name": "stdout",
     "output_type": "stream",
     "text": [
      "['u', 'o', 'i', 'e', 'a']\n",
      "['u', 'o', 'i', 'e', 'a']\n",
      "['u', 'o', 'i', 'e', 'a']\n"
     ]
    }
   ],
   "source": [
    "# set\n",
    "pySet = {'e', 'a', 'u', 'o', 'i'}\n",
    "print(sorted(pySet, reverse=True))\n",
    "\n",
    "# dictionary\n",
    "pyDict = {'e': 1, 'a': 2, 'u': 3, 'o': 4, 'i': 5}\n",
    "print(sorted(pyDict, reverse=True))\n",
    "\n",
    "# frozen set\n",
    "pyFSet = frozenset(('e', 'a', 'u', 'o', 'i'))\n",
    "print(sorted(pyFSet, reverse=True))"
   ]
  },
  {
   "cell_type": "markdown",
   "metadata": {},
   "source": [
    "## Example 3: Sort the list using sorted() having a key function"
   ]
  },
  {
   "cell_type": "code",
   "execution_count": 3,
   "metadata": {},
   "outputs": [
    {
     "name": "stdout",
     "output_type": "stream",
     "text": [
      "Sorted list: [(4, 1), (2, 2), (1, 3), (3, 4)]\n"
     ]
    }
   ],
   "source": [
    "# take second element for sort\n",
    "def takeSecond(elem):\n",
    "    return elem[1]\n",
    "\n",
    "# random list\n",
    "random = [(2, 2), (3, 4), (4, 1), (1, 3)]\n",
    "\n",
    "# sort list with key\n",
    "sortedList = sorted(random, key=takeSecond)\n",
    "\n",
    "# print list\n",
    "print('Sorted list:', sortedList)"
   ]
  },
  {
   "cell_type": "code",
   "execution_count": null,
   "metadata": {},
   "outputs": [],
   "source": []
  }
 ],
 "metadata": {
  "kernelspec": {
   "display_name": "Python 3",
   "language": "python",
   "name": "python3"
  },
  "language_info": {
   "codemirror_mode": {
    "name": "ipython",
    "version": 3
   },
   "file_extension": ".py",
   "mimetype": "text/x-python",
   "name": "python",
   "nbconvert_exporter": "python",
   "pygments_lexer": "ipython3",
   "version": "3.7.4"
  }
 },
 "nbformat": 4,
 "nbformat_minor": 4
}
