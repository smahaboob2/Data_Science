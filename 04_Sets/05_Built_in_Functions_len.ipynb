{
 "cells": [
  {
   "cell_type": "markdown",
   "metadata": {},
   "source": [
    "## Example 1: How len() works with tuples, lists and range?"
   ]
  },
  {
   "cell_type": "code",
   "execution_count": 1,
   "metadata": {},
   "outputs": [
    {
     "name": "stdout",
     "output_type": "stream",
     "text": [
      "[] length is 0\n",
      "[1, 2, 3] length is 3\n",
      "(1, 2, 3) length is 3\n",
      "Length of range(1, 10) is 9\n"
     ]
    }
   ],
   "source": [
    "testList = []\n",
    "print(testList, 'length is', len(testList))\n",
    "\n",
    "testList = [1, 2, 3]\n",
    "print(testList, 'length is', len(testList))\n",
    "\n",
    "testTuple = (1, 2, 3)\n",
    "print(testTuple, 'length is', len(testTuple))\n",
    "\n",
    "testRange = range(1, 10)\n",
    "print('Length of', testRange, 'is', len(testRange))"
   ]
  },
  {
   "cell_type": "markdown",
   "metadata": {},
   "source": [
    "## Example 2: How len() works with strings and bytes?"
   ]
  },
  {
   "cell_type": "code",
   "execution_count": 2,
   "metadata": {},
   "outputs": [
    {
     "name": "stdout",
     "output_type": "stream",
     "text": [
      "Length of  is 0\n",
      "Length of Python is 6\n",
      "Length of b'Python' is 6\n",
      "Length of b'\\x01\\x02\\x03' is 3\n"
     ]
    }
   ],
   "source": [
    "testString = ''\n",
    "print('Length of', testString, 'is', len(testString))\n",
    "\n",
    "testString = 'Python'\n",
    "print('Length of', testString, 'is', len(testString))\n",
    "\n",
    "# byte object\n",
    "testByte = b'Python'\n",
    "print('Length of', testByte, 'is', len(testByte))\n",
    "\n",
    "testList = [1, 2, 3]\n",
    "\n",
    "# converting to bytes object\n",
    "testByte = bytes(testList)\n",
    "print('Length of', testByte, 'is', len(testByte))"
   ]
  },
  {
   "cell_type": "markdown",
   "metadata": {},
   "source": [
    "## Example 3: How len() works with dictionaries and sets?"
   ]
  },
  {
   "cell_type": "code",
   "execution_count": 3,
   "metadata": {},
   "outputs": [
    {
     "name": "stdout",
     "output_type": "stream",
     "text": [
      "{1, 2, 3} length is 3\n",
      "set() length is 0\n",
      "{1: 'one', 2: 'two'} length is 2\n",
      "{} length is 0\n",
      "frozenset({1, 2}) length is 2\n"
     ]
    }
   ],
   "source": [
    "testSet = {1, 2, 3}\n",
    "print(testSet, 'length is', len(testSet))\n",
    "\n",
    "# Empty Set\n",
    "testSet = set()\n",
    "print(testSet, 'length is', len(testSet))\n",
    "\n",
    "testDict = {1: 'one', 2: 'two'}\n",
    "print(testDict, 'length is', len(testDict))\n",
    "\n",
    "testDict = {}\n",
    "print(testDict, 'length is', len(testDict))\n",
    "\n",
    "testSet = {1, 2}\n",
    "# frozenSet\n",
    "frozenTestSet = frozenset(testSet)\n",
    "print(frozenTestSet, 'length is', len(frozenTestSet))"
   ]
  },
  {
   "cell_type": "markdown",
   "metadata": {},
   "source": [
    "## Example 4: How len() works for custom objects?"
   ]
  },
  {
   "cell_type": "code",
   "execution_count": 4,
   "metadata": {},
   "outputs": [
    {
     "name": "stdout",
     "output_type": "stream",
     "text": [
      "0\n",
      "6\n"
     ]
    }
   ],
   "source": [
    "class Session:\n",
    "    def __init__(self, number = 0):\n",
    "      self.number = number\n",
    "    \n",
    "    def __len__(self):\n",
    "      return self.number\n",
    "\n",
    "\n",
    "# default length is 0\n",
    "s1 = Session()\n",
    "print(len(s1))\n",
    "\n",
    "# giving custom length\n",
    "s2 = Session(6)\n",
    "print(len(s2))"
   ]
  },
  {
   "cell_type": "code",
   "execution_count": null,
   "metadata": {},
   "outputs": [],
   "source": []
  }
 ],
 "metadata": {
  "kernelspec": {
   "display_name": "Python 3",
   "language": "python",
   "name": "python3"
  },
  "language_info": {
   "codemirror_mode": {
    "name": "ipython",
    "version": 3
   },
   "file_extension": ".py",
   "mimetype": "text/x-python",
   "name": "python",
   "nbconvert_exporter": "python",
   "pygments_lexer": "ipython3",
   "version": "3.7.4"
  }
 },
 "nbformat": 4,
 "nbformat_minor": 4
}
