{
 "cells": [
  {
   "cell_type": "raw",
   "metadata": {},
   "source": [
    "    np.append(arr,values)   \t Appends values to end of arr\n",
    "    np.insert(arr,2,values) \t Inserts values into arr before index 2\n",
    "    np.delete(arr,3,axis=0) \t Deletes row on index 3 of arr\n",
    "    np.delete(arr,4,axis=1) \t Deletes column on index 4 of arr"
   ]
  },
  {
   "cell_type": "code",
   "execution_count": 1,
   "metadata": {},
   "outputs": [
    {
     "data": {
      "text/plain": [
       "array([16, 13, 19,  9, 19,  2, 16,  4, 13,  4])"
      ]
     },
     "execution_count": 1,
     "metadata": {},
     "output_type": "execute_result"
    }
   ],
   "source": [
    "import numpy as np\n",
    "arr = np.random.randint(2,20,10)\n",
    "arr"
   ]
  },
  {
   "cell_type": "code",
   "execution_count": 2,
   "metadata": {},
   "outputs": [
    {
     "data": {
      "text/plain": [
       "array([16, 13, 19,  9, 19,  2, 16,  4, 13,  4, 10, 11, 12])"
      ]
     },
     "execution_count": 2,
     "metadata": {},
     "output_type": "execute_result"
    }
   ],
   "source": [
    "np.append(arr,[10,11,12])"
   ]
  },
  {
   "cell_type": "code",
   "execution_count": 3,
   "metadata": {},
   "outputs": [
    {
     "data": {
      "text/plain": [
       "array([ 16,  13, 100, 101, 102,  19,   9,  19,   2,  16,   4,  13,   4])"
      ]
     },
     "execution_count": 3,
     "metadata": {},
     "output_type": "execute_result"
    }
   ],
   "source": [
    "np.insert(arr,2,[100,101,102])"
   ]
  },
  {
   "cell_type": "code",
   "execution_count": 4,
   "metadata": {},
   "outputs": [
    {
     "data": {
      "text/plain": [
       "array([16, 13, 19, 19,  2, 16,  4, 13,  4])"
      ]
     },
     "execution_count": 4,
     "metadata": {},
     "output_type": "execute_result"
    }
   ],
   "source": [
    "np.delete(arr,3)"
   ]
  },
  {
   "cell_type": "code",
   "execution_count": 5,
   "metadata": {},
   "outputs": [
    {
     "data": {
      "text/plain": [
       "array([[[[0.90897207, 0.04152553, 0.07996033, 0.80540249],\n",
       "         [0.78988163, 0.71688958, 0.45476833, 0.68290223]],\n",
       "\n",
       "        [[0.30780092, 0.09524577, 0.90414492, 0.30217386],\n",
       "         [0.65928895, 0.59794512, 0.22500252, 0.64330017]]],\n",
       "\n",
       "\n",
       "       [[[0.67279481, 0.38740217, 0.87723176, 0.48528364],\n",
       "         [0.3444971 , 0.3074181 , 0.22853158, 0.9799826 ]],\n",
       "\n",
       "        [[0.50848123, 0.43971073, 0.43442678, 0.53329552],\n",
       "         [0.47531756, 0.20221154, 0.49180019, 0.40053496]]]])"
      ]
     },
     "execution_count": 5,
     "metadata": {},
     "output_type": "execute_result"
    }
   ],
   "source": [
    "arr = np.random.rand(2,2,2,4)\n",
    "arr"
   ]
  },
  {
   "cell_type": "code",
   "execution_count": 6,
   "metadata": {},
   "outputs": [
    {
     "data": {
      "text/plain": [
       "array([[[[0.90897207, 0.04152553, 0.07996033, 0.80540249],\n",
       "         [0.78988163, 0.71688958, 0.45476833, 0.68290223]]],\n",
       "\n",
       "\n",
       "       [[[0.67279481, 0.38740217, 0.87723176, 0.48528364],\n",
       "         [0.3444971 , 0.3074181 , 0.22853158, 0.9799826 ]]]])"
      ]
     },
     "execution_count": 6,
     "metadata": {},
     "output_type": "execute_result"
    }
   ],
   "source": [
    "np.delete(arr,1,axis=1)"
   ]
  },
  {
   "cell_type": "markdown",
   "metadata": {},
   "source": [
    "## Combining/splitting"
   ]
  },
  {
   "cell_type": "raw",
   "metadata": {},
   "source": [
    "    np.concatenate((arr1,arr2),axis=0)      \t Adds arr2 as rows to the end of arr1\n",
    "    np.concatenate((arr1,arr2),axis=1)      \t Adds arr2 as columns to end of arr1\n",
    "    np.split(arr,3)                         \t Splits arr into 3 sub-arrays\n",
    "    np.hsplit(arr,5)                        \t Splits arr horizontally on the 5th index"
   ]
  },
  {
   "cell_type": "code",
   "execution_count": 7,
   "metadata": {},
   "outputs": [
    {
     "data": {
      "text/plain": [
       "array([ 10,  20,  30,  40,  50, 100, 200, 300, 400, 500])"
      ]
     },
     "execution_count": 7,
     "metadata": {},
     "output_type": "execute_result"
    }
   ],
   "source": [
    "a = np.array([10,20,30,40,50])\n",
    "b = np.array([100,200,300,400,500])\n",
    "np.concatenate((a,b))"
   ]
  },
  {
   "cell_type": "code",
   "execution_count": 8,
   "metadata": {},
   "outputs": [
    {
     "data": {
      "text/plain": [
       "array([ 10,  20,  30,  40,  50, 100, 200, 300, 400, 500])"
      ]
     },
     "execution_count": 8,
     "metadata": {},
     "output_type": "execute_result"
    }
   ],
   "source": [
    "np.concatenate((a,b),axis=0)"
   ]
  },
  {
   "cell_type": "code",
   "execution_count": 9,
   "metadata": {},
   "outputs": [
    {
     "data": {
      "text/plain": [
       "array([[  10,   20,   30,   40,   50,  100,  200,  300,  400,  500],\n",
       "       [  60,   70,   80,   90,  100,  600,  700,  800,  900, 1000]])"
      ]
     },
     "execution_count": 9,
     "metadata": {},
     "output_type": "execute_result"
    }
   ],
   "source": [
    "a = np.array([[10,20,30,40,50],[60,70,80,90,100]])\n",
    "b = np.array([[100,200,300,400,500],[600,700,800,900,1000]])\n",
    "np.concatenate((a,b))\n",
    "np.concatenate((a,b),axis=1)"
   ]
  },
  {
   "cell_type": "code",
   "execution_count": 10,
   "metadata": {},
   "outputs": [
    {
     "data": {
      "text/plain": [
       "[array([[10, 20, 30, 40, 50]]), array([[ 60,  70,  80,  90, 100]])]"
      ]
     },
     "execution_count": 10,
     "metadata": {},
     "output_type": "execute_result"
    }
   ],
   "source": [
    "np.split(a,2)"
   ]
  },
  {
   "cell_type": "code",
   "execution_count": 11,
   "metadata": {},
   "outputs": [
    {
     "data": {
      "text/plain": [
       "[array([[10],\n",
       "        [60]]), array([[20],\n",
       "        [70]]), array([[30],\n",
       "        [80]]), array([[40],\n",
       "        [90]]), array([[ 50],\n",
       "        [100]])]"
      ]
     },
     "execution_count": 11,
     "metadata": {},
     "output_type": "execute_result"
    }
   ],
   "source": [
    "np.hsplit(a,5)"
   ]
  },
  {
   "cell_type": "markdown",
   "metadata": {},
   "source": [
    "## Indexing/slicing/subsetting"
   ]
  },
  {
   "cell_type": "raw",
   "metadata": {},
   "source": [
    "    arr[5]              \t Returns the element at index 5\n",
    "    arr[2,5]            \t Returns the 2D array element on index [2][5]\n",
    "    arr[1]=4            \t Assigns array element on index 1 the value 4\n",
    "    arr[1,3]=10         \t Assigns array element on index [1][3] the value 10\n",
    "    arr[0:3]            \t Returns the elements at indices 0,1,2 (On a 2D array: returns rows 0,1,2)\n",
    "    arr[0:3,4]          \t Returns the elements on rows 0,1,2 at column 4\n",
    "    arr[:2]             \t Returns the elements at indices 0,1 (On a 2D array: returns rows 0,1)\n",
    "    arr[:,1]            \t Returns the elements at index 1 on all rows\n",
    "    arr<5               \t Returns an array with boolean values\n",
    "    (arr1<3) & (arr2>5) \t Returns an array with boolean values\n",
    "    ~arr                \t Inverts a boolean array\n",
    "    arr[arr<5]          \t Returns array elements smaller than 5"
   ]
  },
  {
   "cell_type": "code",
   "execution_count": 12,
   "metadata": {},
   "outputs": [
    {
     "data": {
      "text/plain": [
       "array([[[[1.98590066e-01, 3.54256069e-01, 9.06408010e-01,\n",
       "          6.30686143e-01],\n",
       "         [2.94390725e-01, 5.90181597e-02, 1.41875404e-02,\n",
       "          7.10648164e-01]],\n",
       "\n",
       "        [[1.03336172e-02, 8.67412643e-01, 7.29787140e-01,\n",
       "          4.82936055e-01],\n",
       "         [1.08961763e-01, 1.82599246e-01, 4.61540651e-01,\n",
       "          1.73803071e-01]],\n",
       "\n",
       "        [[8.13098603e-01, 2.15338919e-01, 2.93034778e-01,\n",
       "          1.76955593e-01],\n",
       "         [4.46030150e-01, 7.14533105e-01, 6.57671570e-01,\n",
       "          8.96398024e-01]],\n",
       "\n",
       "        [[3.13163709e-01, 1.02480647e-01, 3.26700837e-01,\n",
       "          5.68457381e-01],\n",
       "         [4.90067580e-01, 6.78873873e-01, 1.57024215e-01,\n",
       "          3.38840857e-01]],\n",
       "\n",
       "        [[8.92114393e-01, 8.57850116e-01, 7.92394464e-01,\n",
       "          8.98774199e-01],\n",
       "         [6.78795411e-01, 6.93406580e-01, 3.77732764e-01,\n",
       "          9.84019039e-02]]],\n",
       "\n",
       "\n",
       "       [[[4.61112915e-01, 1.62912563e-01, 1.80904084e-01,\n",
       "          3.86819188e-01],\n",
       "         [1.49865811e-01, 3.22155658e-01, 6.79551433e-01,\n",
       "          9.21965273e-01]],\n",
       "\n",
       "        [[2.77997577e-01, 6.40973731e-01, 3.62103168e-01,\n",
       "          7.20830544e-01],\n",
       "         [6.64474581e-01, 6.03971890e-01, 6.02318360e-01,\n",
       "          4.04916767e-01]],\n",
       "\n",
       "        [[2.32186324e-01, 9.53613935e-03, 2.99668483e-01,\n",
       "          1.89239025e-01],\n",
       "         [9.23199542e-02, 9.58982542e-01, 3.35040869e-01,\n",
       "          8.46139247e-01]],\n",
       "\n",
       "        [[3.56215452e-01, 2.40671718e-01, 3.94317319e-01,\n",
       "          4.11832726e-01],\n",
       "         [6.92269561e-01, 5.08080597e-01, 5.77697261e-01,\n",
       "          1.67383738e-01]],\n",
       "\n",
       "        [[6.38413783e-04, 1.78384091e-01, 5.69271917e-01,\n",
       "          2.06376855e-01],\n",
       "         [9.95677187e-01, 7.70254625e-01, 3.88289429e-01,\n",
       "          8.44454095e-01]]]])"
      ]
     },
     "execution_count": 12,
     "metadata": {},
     "output_type": "execute_result"
    }
   ],
   "source": [
    "a = np.random.rand(2,5,2,4)\n",
    "a"
   ]
  },
  {
   "cell_type": "code",
   "execution_count": 13,
   "metadata": {},
   "outputs": [
    {
     "data": {
      "text/plain": [
       "array([[[4.61112915e-01, 1.62912563e-01, 1.80904084e-01, 3.86819188e-01],\n",
       "        [1.49865811e-01, 3.22155658e-01, 6.79551433e-01, 9.21965273e-01]],\n",
       "\n",
       "       [[2.77997577e-01, 6.40973731e-01, 3.62103168e-01, 7.20830544e-01],\n",
       "        [6.64474581e-01, 6.03971890e-01, 6.02318360e-01, 4.04916767e-01]],\n",
       "\n",
       "       [[2.32186324e-01, 9.53613935e-03, 2.99668483e-01, 1.89239025e-01],\n",
       "        [9.23199542e-02, 9.58982542e-01, 3.35040869e-01, 8.46139247e-01]],\n",
       "\n",
       "       [[3.56215452e-01, 2.40671718e-01, 3.94317319e-01, 4.11832726e-01],\n",
       "        [6.92269561e-01, 5.08080597e-01, 5.77697261e-01, 1.67383738e-01]],\n",
       "\n",
       "       [[6.38413783e-04, 1.78384091e-01, 5.69271917e-01, 2.06376855e-01],\n",
       "        [9.95677187e-01, 7.70254625e-01, 3.88289429e-01, 8.44454095e-01]]])"
      ]
     },
     "execution_count": 13,
     "metadata": {},
     "output_type": "execute_result"
    }
   ],
   "source": [
    "a[1]"
   ]
  },
  {
   "cell_type": "code",
   "execution_count": 14,
   "metadata": {},
   "outputs": [
    {
     "data": {
      "text/plain": [
       "array([[0.23218632, 0.00953614, 0.29966848, 0.18923902],\n",
       "       [0.09231995, 0.95898254, 0.33504087, 0.84613925]])"
      ]
     },
     "execution_count": 14,
     "metadata": {},
     "output_type": "execute_result"
    }
   ],
   "source": [
    "a[1,2]"
   ]
  },
  {
   "cell_type": "code",
   "execution_count": 17,
   "metadata": {},
   "outputs": [],
   "source": [
    "a[1,2]=10"
   ]
  },
  {
   "cell_type": "code",
   "execution_count": 18,
   "metadata": {},
   "outputs": [],
   "source": [
    "a[1,2,0,1]=20"
   ]
  },
  {
   "cell_type": "code",
   "execution_count": 19,
   "metadata": {},
   "outputs": [
    {
     "data": {
      "text/plain": [
       "array([[10., 20., 10., 10.],\n",
       "       [10., 10., 10., 10.]])"
      ]
     },
     "execution_count": 19,
     "metadata": {},
     "output_type": "execute_result"
    }
   ],
   "source": [
    "a[1,2]"
   ]
  },
  {
   "cell_type": "code",
   "execution_count": 21,
   "metadata": {},
   "outputs": [
    {
     "data": {
      "text/plain": [
       "array([[[[0.19859007, 0.35425607, 0.90640801, 0.63068614],\n",
       "         [0.29439073, 0.05901816, 0.01418754, 0.71064816]],\n",
       "\n",
       "        [[0.01033362, 0.86741264, 0.72978714, 0.48293605],\n",
       "         [0.10896176, 0.18259925, 0.46154065, 0.17380307]],\n",
       "\n",
       "        [[0.8130986 , 0.21533892, 0.29303478, 0.17695559],\n",
       "         [0.44603015, 0.71453311, 0.65767157, 0.89639802]],\n",
       "\n",
       "        [[0.31316371, 0.10248065, 0.32670084, 0.56845738],\n",
       "         [0.49006758, 0.67887387, 0.15702421, 0.33884086]],\n",
       "\n",
       "        [[0.89211439, 0.85785012, 0.79239446, 0.8987742 ],\n",
       "         [0.67879541, 0.69340658, 0.37773276, 0.0984019 ]]]])"
      ]
     },
     "execution_count": 21,
     "metadata": {},
     "output_type": "execute_result"
    }
   ],
   "source": [
    "a[0:1]"
   ]
  },
  {
   "cell_type": "code",
   "execution_count": 22,
   "metadata": {},
   "outputs": [
    {
     "data": {
      "text/plain": [
       "array([[[[0.19859007, 0.35425607, 0.90640801, 0.63068614],\n",
       "         [0.29439073, 0.05901816, 0.01418754, 0.71064816]]]])"
      ]
     },
     "execution_count": 22,
     "metadata": {},
     "output_type": "execute_result"
    }
   ],
   "source": [
    "a[0:1,0:1]"
   ]
  },
  {
   "cell_type": "code",
   "execution_count": 23,
   "metadata": {},
   "outputs": [
    {
     "data": {
      "text/plain": [
       "array([[[[0.19859007, 0.35425607, 0.90640801, 0.63068614],\n",
       "         [0.29439073, 0.05901816, 0.01418754, 0.71064816]],\n",
       "\n",
       "        [[0.01033362, 0.86741264, 0.72978714, 0.48293605],\n",
       "         [0.10896176, 0.18259925, 0.46154065, 0.17380307]],\n",
       "\n",
       "        [[0.8130986 , 0.21533892, 0.29303478, 0.17695559],\n",
       "         [0.44603015, 0.71453311, 0.65767157, 0.89639802]],\n",
       "\n",
       "        [[0.31316371, 0.10248065, 0.32670084, 0.56845738],\n",
       "         [0.49006758, 0.67887387, 0.15702421, 0.33884086]]]])"
      ]
     },
     "execution_count": 23,
     "metadata": {},
     "output_type": "execute_result"
    }
   ],
   "source": [
    "a[0:1,0:-1]"
   ]
  },
  {
   "cell_type": "code",
   "execution_count": null,
   "metadata": {},
   "outputs": [],
   "source": []
  }
 ],
 "metadata": {
  "kernelspec": {
   "display_name": "Python 3",
   "language": "python",
   "name": "python3"
  },
  "language_info": {
   "codemirror_mode": {
    "name": "ipython",
    "version": 3
   },
   "file_extension": ".py",
   "mimetype": "text/x-python",
   "name": "python",
   "nbconvert_exporter": "python",
   "pygments_lexer": "ipython3",
   "version": "3.7.4"
  }
 },
 "nbformat": 4,
 "nbformat_minor": 4
}
