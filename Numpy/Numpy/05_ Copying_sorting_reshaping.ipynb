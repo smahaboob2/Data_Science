{
 "cells": [
  {
   "cell_type": "markdown",
   "metadata": {},
   "source": [
    " ### Copying/sorting/reshaping"
   ]
  },
  {
   "cell_type": "raw",
   "metadata": {},
   "source": [
    "    np.copy(arr)                    \t Copies arr to new memory\n",
    "    arr.view(dtype)                 \t Creates view of arr elements with type dtype\n",
    "    arr.sort()                      \t Sorts arr\n",
    "    arr.sort(axis=0)                \t Sorts specific axis of arr\n",
    "    two_d_arr.flatten()             \t Flattens 2D array two_d_arr to 1D\n",
    "    arr.T                           \t Transposes arr (rows become columns and vice versa)\n",
    "    arr.reshape(3,4)                \t Reshapes arr to 3 rows, 4 columns without changing data\n",
    "    arr.resize((5,6))               \t Changes arr shape to 5x6 and fills new values with 0"
   ]
  },
  {
   "cell_type": "code",
   "execution_count": 1,
   "metadata": {},
   "outputs": [],
   "source": [
    "import numpy as np"
   ]
  },
  {
   "cell_type": "code",
   "execution_count": 2,
   "metadata": {},
   "outputs": [],
   "source": [
    "arr = np.random.randint(1,100,size=(4,4))"
   ]
  },
  {
   "cell_type": "code",
   "execution_count": 3,
   "metadata": {},
   "outputs": [
    {
     "data": {
      "text/plain": [
       "array([[75, 89, 57, 78],\n",
       "       [72,  6, 24, 73],\n",
       "       [74, 54, 97, 76],\n",
       "       [42, 31, 68, 50]])"
      ]
     },
     "execution_count": 3,
     "metadata": {},
     "output_type": "execute_result"
    }
   ],
   "source": [
    "arr"
   ]
  },
  {
   "cell_type": "code",
   "execution_count": 4,
   "metadata": {},
   "outputs": [
    {
     "data": {
      "text/plain": [
       "array([[75, 89, 57, 78],\n",
       "       [72,  6, 24, 73],\n",
       "       [74, 54, 97, 76],\n",
       "       [42, 31, 68, 50]])"
      ]
     },
     "execution_count": 4,
     "metadata": {},
     "output_type": "execute_result"
    }
   ],
   "source": [
    "arr1 = arr.copy()\n",
    "arr1"
   ]
  },
  {
   "cell_type": "code",
   "execution_count": 5,
   "metadata": {},
   "outputs": [
    {
     "data": {
      "text/plain": [
       "array([[75, 89, 57, 78],\n",
       "       [72,  6, 24, 73],\n",
       "       [74, 54, 97, 76],\n",
       "       [42, 31, 68, 50]])"
      ]
     },
     "execution_count": 5,
     "metadata": {},
     "output_type": "execute_result"
    }
   ],
   "source": [
    "arr2 = np.copy(arr1)\n",
    "arr2"
   ]
  },
  {
   "cell_type": "code",
   "execution_count": 11,
   "metadata": {},
   "outputs": [
    {
     "data": {
      "text/plain": [
       "array([[75, 89, 57, 78],\n",
       "       [72,  6, 24, 73],\n",
       "       [74, 54, 97, 76],\n",
       "       [42, 31, 68, 50]])"
      ]
     },
     "execution_count": 11,
     "metadata": {},
     "output_type": "execute_result"
    }
   ],
   "source": [
    "arr2.view(int)"
   ]
  },
  {
   "cell_type": "code",
   "execution_count": 16,
   "metadata": {},
   "outputs": [
    {
     "data": {
      "text/plain": [
       "array([[0., 0., 0., 0.],\n",
       "       [0., 0., 0., 0.],\n",
       "       [0., 0., 0., 0.],\n",
       "       [0., 0., 0., 0.]])"
      ]
     },
     "execution_count": 16,
     "metadata": {},
     "output_type": "execute_result"
    }
   ],
   "source": [
    "arr3 = np.zeros((4,4))\n",
    "arr3"
   ]
  },
  {
   "cell_type": "code",
   "execution_count": 17,
   "metadata": {},
   "outputs": [
    {
     "data": {
      "text/plain": [
       "array([[0, 0, 0, 0, 0, 0, 0, 0],\n",
       "       [0, 0, 0, 0, 0, 0, 0, 0],\n",
       "       [0, 0, 0, 0, 0, 0, 0, 0],\n",
       "       [0, 0, 0, 0, 0, 0, 0, 0]])"
      ]
     },
     "execution_count": 17,
     "metadata": {},
     "output_type": "execute_result"
    }
   ],
   "source": [
    "arr3.view(int)"
   ]
  },
  {
   "cell_type": "code",
   "execution_count": 18,
   "metadata": {},
   "outputs": [
    {
     "data": {
      "text/plain": [
       "array([[75, 89, 57, 78],\n",
       "       [72,  6, 24, 73],\n",
       "       [74, 54, 97, 76],\n",
       "       [42, 31, 68, 50]])"
      ]
     },
     "execution_count": 18,
     "metadata": {},
     "output_type": "execute_result"
    }
   ],
   "source": [
    "arr2"
   ]
  },
  {
   "cell_type": "code",
   "execution_count": 22,
   "metadata": {},
   "outputs": [
    {
     "data": {
      "text/plain": [
       "array([[57, 75, 78, 89],\n",
       "       [ 6, 24, 72, 73],\n",
       "       [54, 74, 76, 97],\n",
       "       [31, 42, 50, 68]])"
      ]
     },
     "execution_count": 22,
     "metadata": {},
     "output_type": "execute_result"
    }
   ],
   "source": [
    "np.sort(arr2)"
   ]
  },
  {
   "cell_type": "code",
   "execution_count": 23,
   "metadata": {},
   "outputs": [
    {
     "data": {
      "text/plain": [
       "array([[42,  6, 24, 50],\n",
       "       [72, 31, 57, 73],\n",
       "       [74, 54, 68, 76],\n",
       "       [75, 89, 97, 78]])"
      ]
     },
     "execution_count": 23,
     "metadata": {},
     "output_type": "execute_result"
    }
   ],
   "source": [
    "np.sort(arr2,axis=0)"
   ]
  },
  {
   "cell_type": "code",
   "execution_count": 24,
   "metadata": {},
   "outputs": [
    {
     "data": {
      "text/plain": [
       "array([[57, 75, 78, 89],\n",
       "       [ 6, 24, 72, 73],\n",
       "       [54, 74, 76, 97],\n",
       "       [31, 42, 50, 68]])"
      ]
     },
     "execution_count": 24,
     "metadata": {},
     "output_type": "execute_result"
    }
   ],
   "source": [
    "np.sort(arr2,axis=1)"
   ]
  },
  {
   "cell_type": "code",
   "execution_count": 25,
   "metadata": {},
   "outputs": [
    {
     "data": {
      "text/plain": [
       "array([75, 89, 57, 78, 72,  6, 24, 73, 74, 54, 97, 76, 42, 31, 68, 50])"
      ]
     },
     "execution_count": 25,
     "metadata": {},
     "output_type": "execute_result"
    }
   ],
   "source": [
    "arr2.flatten()"
   ]
  },
  {
   "cell_type": "code",
   "execution_count": 26,
   "metadata": {},
   "outputs": [
    {
     "data": {
      "text/plain": [
       "array([[75, 72, 74, 42],\n",
       "       [89,  6, 54, 31],\n",
       "       [57, 24, 97, 68],\n",
       "       [78, 73, 76, 50]])"
      ]
     },
     "execution_count": 26,
     "metadata": {},
     "output_type": "execute_result"
    }
   ],
   "source": [
    "arr2.T"
   ]
  },
  {
   "cell_type": "code",
   "execution_count": 35,
   "metadata": {},
   "outputs": [
    {
     "data": {
      "text/plain": [
       "array([[[[0.51850154, 0.47560775, 0.46605059, 0.01616007],\n",
       "         [0.28238903, 0.29310049, 0.77050905, 0.73029526]],\n",
       "\n",
       "        [[0.46611168, 0.40836413, 0.86369289, 0.1403873 ],\n",
       "         [0.56956087, 0.78573582, 0.168723  , 0.26073256]]],\n",
       "\n",
       "\n",
       "       [[[0.62967472, 0.40348536, 0.58342962, 0.02720351],\n",
       "         [0.51536019, 0.2592979 , 0.39105477, 0.98703558]],\n",
       "\n",
       "        [[0.52285501, 0.01986818, 0.68857092, 0.99167381],\n",
       "         [0.70402211, 0.76704277, 0.51481448, 0.15954059]]]])"
      ]
     },
     "execution_count": 35,
     "metadata": {},
     "output_type": "execute_result"
    }
   ],
   "source": [
    "arr4 = np.random.rand(2,2,2,4)\n",
    "arr4"
   ]
  },
  {
   "cell_type": "code",
   "execution_count": 37,
   "metadata": {},
   "outputs": [
    {
     "data": {
      "text/plain": [
       "array([[0.51850154, 0.47560775, 0.46605059, 0.01616007],\n",
       "       [0.28238903, 0.29310049, 0.77050905, 0.73029526],\n",
       "       [0.46611168, 0.40836413, 0.86369289, 0.1403873 ],\n",
       "       [0.56956087, 0.78573582, 0.168723  , 0.26073256],\n",
       "       [0.62967472, 0.40348536, 0.58342962, 0.02720351],\n",
       "       [0.51536019, 0.2592979 , 0.39105477, 0.98703558],\n",
       "       [0.52285501, 0.01986818, 0.68857092, 0.99167381],\n",
       "       [0.70402211, 0.76704277, 0.51481448, 0.15954059]])"
      ]
     },
     "execution_count": 37,
     "metadata": {},
     "output_type": "execute_result"
    }
   ],
   "source": [
    "arr4.reshape(8,4)"
   ]
  },
  {
   "cell_type": "code",
   "execution_count": 46,
   "metadata": {},
   "outputs": [],
   "source": [
    "arr5 = arr4.resize((8,4))\n",
    "arr5"
   ]
  },
  {
   "cell_type": "code",
   "execution_count": 48,
   "metadata": {},
   "outputs": [],
   "source": [
    "arr4.resize((4,4,2))"
   ]
  },
  {
   "cell_type": "code",
   "execution_count": null,
   "metadata": {},
   "outputs": [],
   "source": []
  }
 ],
 "metadata": {
  "kernelspec": {
   "display_name": "Python 3",
   "language": "python",
   "name": "python3"
  },
  "language_info": {
   "codemirror_mode": {
    "name": "ipython",
    "version": 3
   },
   "file_extension": ".py",
   "mimetype": "text/x-python",
   "name": "python",
   "nbconvert_exporter": "python",
   "pygments_lexer": "ipython3",
   "version": "3.7.4"
  }
 },
 "nbformat": 4,
 "nbformat_minor": 4
}
