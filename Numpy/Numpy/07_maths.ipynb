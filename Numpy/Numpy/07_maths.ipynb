{
 "cells": [
  {
   "cell_type": "raw",
   "metadata": {},
   "source": [
    "    np.add(arr1,arr2)           \t Elementwise add arr2 to arr1\n",
    "    np.subtract(arr1,arr2)      \t Elementwise subtract arr2 from arr1\n",
    "    np.multiply(arr1,arr2)      \t Elementwise multiply arr1 by arr2\n",
    "    np.divide(arr1,arr2)        \t Elementwise divide arr1 by arr2\n",
    "    np.power(arr1,arr2)         \t Elementwise raise arr1 raised to the power of arr2\n",
    "    np.array_equal(arr1,arr2)   \t Returns True if the arrays have the same elements and shape\n",
    "    np.sqrt(arr)                \t Square root of each element in the array\n",
    "    np.sin(arr)                 \t Sine of each element in the array\n",
    "    np.log(arr)                 \t Natural log of each element in the array\n",
    "    np.abs(arr)                 \t Absolute value of each element in the array\n",
    "    np.ceil(arr)                \t Rounds up to the nearest int\n",
    "    np.floor(arr)               \t Rounds down to the nearest int\n",
    "    np.round(arr)               \t Rounds to the nearest int"
   ]
  },
  {
   "cell_type": "code",
   "execution_count": 8,
   "metadata": {},
   "outputs": [],
   "source": [
    "import numpy as np\n",
    "a = np.random.rand(2,2,4)\n",
    "b = np.random.rand(2,2,4)"
   ]
  },
  {
   "cell_type": "code",
   "execution_count": 9,
   "metadata": {},
   "outputs": [
    {
     "data": {
      "text/plain": [
       "(array([[[0.00415026, 0.70894515, 0.58253532, 0.41302591],\n",
       "         [0.19315623, 0.04443093, 0.18040115, 0.81679997]],\n",
       " \n",
       "        [[0.07828287, 0.82652547, 0.62745598, 0.16831655],\n",
       "         [0.57459419, 0.11140723, 0.15535227, 0.57228162]]]),\n",
       " array([[[6.70550423e-02, 7.15887977e-02, 3.37096477e-01, 4.62377941e-01],\n",
       "         [7.39247577e-04, 7.42538091e-01, 8.70019991e-02, 2.83779101e-01]],\n",
       " \n",
       "        [[8.91753204e-01, 4.84633940e-01, 4.16942669e-01, 3.80776798e-01],\n",
       "         [3.25853492e-01, 8.50897267e-01, 2.49008079e-01, 2.63674376e-01]]]))"
      ]
     },
     "execution_count": 9,
     "metadata": {},
     "output_type": "execute_result"
    }
   ],
   "source": [
    "a,b"
   ]
  },
  {
   "cell_type": "code",
   "execution_count": 10,
   "metadata": {},
   "outputs": [
    {
     "data": {
      "text/plain": [
       "array([[[0.0712053 , 0.78053395, 0.9196318 , 0.87540385],\n",
       "        [0.19389547, 0.78696902, 0.26740315, 1.10057907]],\n",
       "\n",
       "       [[0.97003607, 1.31115941, 1.04439864, 0.54909335],\n",
       "        [0.90044769, 0.9623045 , 0.40436035, 0.83595599]]])"
      ]
     },
     "execution_count": 10,
     "metadata": {},
     "output_type": "execute_result"
    }
   ],
   "source": [
    "a+b"
   ]
  },
  {
   "cell_type": "code",
   "execution_count": 11,
   "metadata": {},
   "outputs": [
    {
     "data": {
      "text/plain": [
       "array([[[0.0712053 , 0.78053395, 0.9196318 , 0.87540385],\n",
       "        [0.19389547, 0.78696902, 0.26740315, 1.10057907]],\n",
       "\n",
       "       [[0.97003607, 1.31115941, 1.04439864, 0.54909335],\n",
       "        [0.90044769, 0.9623045 , 0.40436035, 0.83595599]]])"
      ]
     },
     "execution_count": 11,
     "metadata": {},
     "output_type": "execute_result"
    }
   ],
   "source": [
    "np.add(a,b)"
   ]
  },
  {
   "cell_type": "code",
   "execution_count": 12,
   "metadata": {},
   "outputs": [
    {
     "data": {
      "text/plain": [
       "array([[[-0.06290479,  0.63735635,  0.24543885, -0.04935203],\n",
       "        [ 0.19241698, -0.69810716,  0.09339915,  0.53302086]],\n",
       "\n",
       "       [[-0.81347034,  0.34189153,  0.21051331, -0.21246025],\n",
       "        [ 0.2487407 , -0.73949004, -0.09365581,  0.30860724]]])"
      ]
     },
     "execution_count": 12,
     "metadata": {},
     "output_type": "execute_result"
    }
   ],
   "source": [
    "a-b"
   ]
  },
  {
   "cell_type": "code",
   "execution_count": 13,
   "metadata": {},
   "outputs": [
    {
     "data": {
      "text/plain": [
       "array([[[-0.06290479,  0.63735635,  0.24543885, -0.04935203],\n",
       "        [ 0.19241698, -0.69810716,  0.09339915,  0.53302086]],\n",
       "\n",
       "       [[-0.81347034,  0.34189153,  0.21051331, -0.21246025],\n",
       "        [ 0.2487407 , -0.73949004, -0.09365581,  0.30860724]]])"
      ]
     },
     "execution_count": 13,
     "metadata": {},
     "output_type": "execute_result"
    }
   ],
   "source": [
    "np.subtract(a,b)"
   ]
  },
  {
   "cell_type": "code",
   "execution_count": 14,
   "metadata": {},
   "outputs": [
    {
     "data": {
      "text/plain": [
       "array([[[6.18932718e-02, 9.90301796e+00, 1.72809674e+00, 8.93264739e-01],\n",
       "        [2.61287600e+02, 5.98365627e-02, 2.07352883e+00, 2.87829500e+00]],\n",
       "\n",
       "       [[8.77853486e-02, 1.70546344e+00, 1.50489749e+00, 4.42034677e-01],\n",
       "        [1.76335135e+00, 1.30929122e-01, 6.23884455e-01, 2.17041043e+00]]])"
      ]
     },
     "execution_count": 14,
     "metadata": {},
     "output_type": "execute_result"
    }
   ],
   "source": [
    "a/b"
   ]
  },
  {
   "cell_type": "code",
   "execution_count": 15,
   "metadata": {},
   "outputs": [
    {
     "data": {
      "text/plain": [
       "array([[[6.18932718e-02, 9.90301796e+00, 1.72809674e+00, 8.93264739e-01],\n",
       "        [2.61287600e+02, 5.98365627e-02, 2.07352883e+00, 2.87829500e+00]],\n",
       "\n",
       "       [[8.77853486e-02, 1.70546344e+00, 1.50489749e+00, 4.42034677e-01],\n",
       "        [1.76335135e+00, 1.30929122e-01, 6.23884455e-01, 2.17041043e+00]]])"
      ]
     },
     "execution_count": 15,
     "metadata": {},
     "output_type": "execute_result"
    }
   ],
   "source": [
    "np.divide(a,b)"
   ]
  },
  {
   "cell_type": "code",
   "execution_count": 16,
   "metadata": {},
   "outputs": [
    {
     "data": {
      "text/plain": [
       "array([[[2.78295588e-04, 5.07525308e-02, 1.96370605e-01, 1.90974070e-01],\n",
       "        [1.42790272e-04, 3.29916558e-02, 1.56952609e-02, 2.31790760e-01]],\n",
       "\n",
       "       [[6.98089965e-02, 4.00562293e-01, 2.61613169e-01, 6.40910364e-02],\n",
       "        [1.87233525e-01, 9.47961093e-02, 3.86839701e-02, 1.50895998e-01]]])"
      ]
     },
     "execution_count": 16,
     "metadata": {},
     "output_type": "execute_result"
    }
   ],
   "source": [
    "a*b"
   ]
  },
  {
   "cell_type": "code",
   "execution_count": 17,
   "metadata": {},
   "outputs": [
    {
     "data": {
      "text/plain": [
       "array([[[2.78295588e-04, 5.07525308e-02, 1.96370605e-01, 1.90974070e-01],\n",
       "        [1.42790272e-04, 3.29916558e-02, 1.56952609e-02, 2.31790760e-01]],\n",
       "\n",
       "       [[6.98089965e-02, 4.00562293e-01, 2.61613169e-01, 6.40910364e-02],\n",
       "        [1.87233525e-01, 9.47961093e-02, 3.86839701e-02, 1.50895998e-01]]])"
      ]
     },
     "execution_count": 17,
     "metadata": {},
     "output_type": "execute_result"
    }
   ],
   "source": [
    "np.multiply(a,b)"
   ]
  },
  {
   "cell_type": "code",
   "execution_count": 18,
   "metadata": {},
   "outputs": [
    {
     "data": {
      "text/plain": [
       "array([[[4.15025595e-03, 6.46459699e-02, 2.45438846e-01, 4.13025910e-01],\n",
       "        [2.12607962e-04, 4.44309271e-02, 6.39715481e-03, 2.49241764e-01]],\n",
       "\n",
       "       [[7.82828659e-02, 3.41891527e-01, 2.10513306e-01, 1.68316549e-01],\n",
       "        [2.48740702e-01, 1.11407232e-01, 1.55352269e-01, 4.49328641e-02]]])"
      ]
     },
     "execution_count": 18,
     "metadata": {},
     "output_type": "execute_result"
    }
   ],
   "source": [
    "a%b"
   ]
  },
  {
   "cell_type": "code",
   "execution_count": 19,
   "metadata": {},
   "outputs": [
    {
     "data": {
      "text/plain": [
       "array([[[4.15025595e-03, 6.46459699e-02, 2.45438846e-01, 4.13025910e-01],\n",
       "        [2.12607962e-04, 4.44309271e-02, 6.39715481e-03, 2.49241764e-01]],\n",
       "\n",
       "       [[7.82828659e-02, 3.41891527e-01, 2.10513306e-01, 1.68316549e-01],\n",
       "        [2.48740702e-01, 1.11407232e-01, 1.55352269e-01, 4.49328641e-02]]])"
      ]
     },
     "execution_count": 19,
     "metadata": {},
     "output_type": "execute_result"
    }
   ],
   "source": [
    "np.mod(a,b)"
   ]
  },
  {
   "cell_type": "code",
   "execution_count": 21,
   "metadata": {},
   "outputs": [
    {
     "data": {
      "text/plain": [
       "array([[[0.69227701, 0.97567581, 0.8334719 , 0.66441033],\n",
       "        [0.99878523, 0.09905009, 0.86157152, 0.94419191]],\n",
       "\n",
       "       [[0.1031392 , 0.91179995, 0.82338665, 0.50737264],\n",
       "        [0.8348088 , 0.15453299, 0.62897234, 0.86315326]]])"
      ]
     },
     "execution_count": 21,
     "metadata": {},
     "output_type": "execute_result"
    }
   ],
   "source": [
    "np.power(a,b)"
   ]
  },
  {
   "cell_type": "code",
   "execution_count": 22,
   "metadata": {},
   "outputs": [
    {
     "data": {
      "text/plain": [
       "False"
      ]
     },
     "execution_count": 22,
     "metadata": {},
     "output_type": "execute_result"
    }
   ],
   "source": [
    "np.array_equal(a,b)"
   ]
  },
  {
   "cell_type": "code",
   "execution_count": 24,
   "metadata": {},
   "outputs": [
    {
     "data": {
      "text/plain": [
       "array([1.        , 1.41421356, 1.73205081, 2.        , 2.23606798])"
      ]
     },
     "execution_count": 24,
     "metadata": {},
     "output_type": "execute_result"
    }
   ],
   "source": [
    "a=np.array([1,2,3,4,5])\n",
    "np.sqrt(a)"
   ]
  },
  {
   "cell_type": "code",
   "execution_count": 25,
   "metadata": {},
   "outputs": [
    {
     "data": {
      "text/plain": [
       "array([ 1,  4,  9, 16, 25], dtype=int32)"
      ]
     },
     "execution_count": 25,
     "metadata": {},
     "output_type": "execute_result"
    }
   ],
   "source": [
    "a**2"
   ]
  },
  {
   "cell_type": "code",
   "execution_count": 27,
   "metadata": {},
   "outputs": [
    {
     "data": {
      "text/plain": [
       "array([ 0.84147098,  0.90929743,  0.14112001, -0.7568025 , -0.95892427])"
      ]
     },
     "execution_count": 27,
     "metadata": {},
     "output_type": "execute_result"
    }
   ],
   "source": [
    "np.sin(a)"
   ]
  },
  {
   "cell_type": "code",
   "execution_count": 28,
   "metadata": {},
   "outputs": [
    {
     "data": {
      "text/plain": [
       "array([0.        , 0.69314718, 1.09861229, 1.38629436, 1.60943791])"
      ]
     },
     "execution_count": 28,
     "metadata": {},
     "output_type": "execute_result"
    }
   ],
   "source": [
    "np.log(a)"
   ]
  },
  {
   "cell_type": "code",
   "execution_count": 29,
   "metadata": {},
   "outputs": [
    {
     "data": {
      "text/plain": [
       "array([1, 2, 3, 4, 5])"
      ]
     },
     "execution_count": 29,
     "metadata": {},
     "output_type": "execute_result"
    }
   ],
   "source": [
    "np.abs(a)"
   ]
  },
  {
   "cell_type": "code",
   "execution_count": 32,
   "metadata": {},
   "outputs": [
    {
     "data": {
      "text/plain": [
       "array([1., 2., 3., 4., 5.])"
      ]
     },
     "execution_count": 32,
     "metadata": {},
     "output_type": "execute_result"
    }
   ],
   "source": [
    "np.ceil(a)"
   ]
  },
  {
   "cell_type": "code",
   "execution_count": 33,
   "metadata": {},
   "outputs": [
    {
     "data": {
      "text/plain": [
       "array([ 1.,  1.,  1., -0., -0.])"
      ]
     },
     "execution_count": 33,
     "metadata": {},
     "output_type": "execute_result"
    }
   ],
   "source": [
    "a = np.sin(a)\n",
    "np.ceil(a)"
   ]
  },
  {
   "cell_type": "code",
   "execution_count": 34,
   "metadata": {},
   "outputs": [
    {
     "data": {
      "text/plain": [
       "array([ 0.,  0.,  0., -1., -1.])"
      ]
     },
     "execution_count": 34,
     "metadata": {},
     "output_type": "execute_result"
    }
   ],
   "source": [
    "np.floor(a)"
   ]
  },
  {
   "cell_type": "code",
   "execution_count": 35,
   "metadata": {},
   "outputs": [
    {
     "data": {
      "text/plain": [
       "array([ 1.,  1.,  0., -1., -1.])"
      ]
     },
     "execution_count": 35,
     "metadata": {},
     "output_type": "execute_result"
    }
   ],
   "source": [
    "np.round(a)"
   ]
  },
  {
   "cell_type": "raw",
   "metadata": {},
   "source": [
    "    np.mean(arr,axis=0)         \t Returns mean along specific axis\n",
    "    arr.sum()                   \t Returns sum of arr\n",
    "    arr.min()                   \t Returns minimum value of arr\n",
    "    arr.max(axis=0)             \t Returns maximum value of specific axis"
   ]
  },
  {
   "cell_type": "code",
   "execution_count": 41,
   "metadata": {},
   "outputs": [
    {
     "name": "stdout",
     "output_type": "stream",
     "text": [
      "[2 2 5 6 8 5 5 9 6 1]\n"
     ]
    },
    {
     "data": {
      "text/plain": [
       "4.9"
      ]
     },
     "execution_count": 41,
     "metadata": {},
     "output_type": "execute_result"
    }
   ],
   "source": [
    "a = np.random.randint(1,10,10)\n",
    "print(a)\n",
    "np.mean(a)"
   ]
  },
  {
   "cell_type": "code",
   "execution_count": 42,
   "metadata": {},
   "outputs": [
    {
     "data": {
      "text/plain": [
       "49"
      ]
     },
     "execution_count": 42,
     "metadata": {},
     "output_type": "execute_result"
    }
   ],
   "source": [
    "np.sum(a)"
   ]
  },
  {
   "cell_type": "code",
   "execution_count": 43,
   "metadata": {},
   "outputs": [
    {
     "data": {
      "text/plain": [
       "1"
      ]
     },
     "execution_count": 43,
     "metadata": {},
     "output_type": "execute_result"
    }
   ],
   "source": [
    "np.min(a)"
   ]
  },
  {
   "cell_type": "code",
   "execution_count": 44,
   "metadata": {},
   "outputs": [
    {
     "data": {
      "text/plain": [
       "9"
      ]
     },
     "execution_count": 44,
     "metadata": {},
     "output_type": "execute_result"
    }
   ],
   "source": [
    "np.max(a)"
   ]
  },
  {
   "cell_type": "code",
   "execution_count": 45,
   "metadata": {},
   "outputs": [
    {
     "data": {
      "text/plain": [
       "1"
      ]
     },
     "execution_count": 45,
     "metadata": {},
     "output_type": "execute_result"
    }
   ],
   "source": [
    "a.min()"
   ]
  },
  {
   "cell_type": "code",
   "execution_count": 46,
   "metadata": {},
   "outputs": [
    {
     "data": {
      "text/plain": [
       "9"
      ]
     },
     "execution_count": 46,
     "metadata": {},
     "output_type": "execute_result"
    }
   ],
   "source": [
    "a.max()"
   ]
  },
  {
   "cell_type": "code",
   "execution_count": 47,
   "metadata": {},
   "outputs": [
    {
     "data": {
      "text/plain": [
       "49"
      ]
     },
     "execution_count": 47,
     "metadata": {},
     "output_type": "execute_result"
    }
   ],
   "source": [
    "a.sum()"
   ]
  },
  {
   "cell_type": "code",
   "execution_count": 48,
   "metadata": {},
   "outputs": [
    {
     "data": {
      "text/plain": [
       "9"
      ]
     },
     "execution_count": 48,
     "metadata": {},
     "output_type": "execute_result"
    }
   ],
   "source": [
    "a.max()"
   ]
  },
  {
   "cell_type": "code",
   "execution_count": 49,
   "metadata": {},
   "outputs": [],
   "source": [
    "a=np.random.rand(2,2,4)"
   ]
  },
  {
   "cell_type": "code",
   "execution_count": 50,
   "metadata": {},
   "outputs": [
    {
     "data": {
      "text/plain": [
       "array([[[8.51717464e-01, 2.70838649e-02, 7.21330131e-01, 3.86293577e-01],\n",
       "        [1.00388199e-01, 7.38139905e-04, 4.84079532e-01, 5.12193003e-01]],\n",
       "\n",
       "       [[2.13949190e-01, 6.79812212e-01, 8.90484902e-01, 5.18844337e-02],\n",
       "        [1.85528992e-01, 5.32169820e-01, 1.32193829e-01, 7.43794610e-01]]])"
      ]
     },
     "execution_count": 50,
     "metadata": {},
     "output_type": "execute_result"
    }
   ],
   "source": [
    "a"
   ]
  },
  {
   "cell_type": "code",
   "execution_count": 51,
   "metadata": {},
   "outputs": [
    {
     "data": {
      "text/plain": [
       "array([[1.06566665, 0.70689608, 1.61181503, 0.43817801],\n",
       "       [0.28591719, 0.53290796, 0.61627336, 1.25598761]])"
      ]
     },
     "execution_count": 51,
     "metadata": {},
     "output_type": "execute_result"
    }
   ],
   "source": [
    "a.sum(axis=0)"
   ]
  },
  {
   "cell_type": "code",
   "execution_count": 52,
   "metadata": {},
   "outputs": [
    {
     "data": {
      "text/plain": [
       "array([[0.95210566, 0.027822  , 1.20540966, 0.89848658],\n",
       "       [0.39947818, 1.21198203, 1.02267873, 0.79567904]])"
      ]
     },
     "execution_count": 52,
     "metadata": {},
     "output_type": "execute_result"
    }
   ],
   "source": [
    "a.sum(axis=1)"
   ]
  },
  {
   "cell_type": "code",
   "execution_count": null,
   "metadata": {},
   "outputs": [],
   "source": []
  }
 ],
 "metadata": {
  "kernelspec": {
   "display_name": "Python 3",
   "language": "python",
   "name": "python3"
  },
  "language_info": {
   "codemirror_mode": {
    "name": "ipython",
    "version": 3
   },
   "file_extension": ".py",
   "mimetype": "text/x-python",
   "name": "python",
   "nbconvert_exporter": "python",
   "pygments_lexer": "ipython3",
   "version": "3.7.4"
  }
 },
 "nbformat": 4,
 "nbformat_minor": 4
}
