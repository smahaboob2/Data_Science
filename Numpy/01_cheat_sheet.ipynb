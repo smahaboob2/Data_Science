{
 "cells": [
  {
   "cell_type": "markdown",
   "metadata": {},
   "source": [
    "## Cheat Sheet"
   ]
  },
  {
   "cell_type": "markdown",
   "metadata": {},
   "source": [
    "## Importing/exporting"
   ]
  },
  {
   "cell_type": "code",
   "execution_count": null,
   "metadata": {},
   "outputs": [],
   "source": [
    "    np.loadtxt('file.txt')                    \tFrom a text file\n",
    "    np.genfromtxt('file.csv',delimiter=',')  \tFrom a CSV file\n",
    "    np.savetxt('file.txt',arr,delimiter=' ')\tWrites to a text file\n",
    "    np.savetxt('file.csv',arr,delimiter=',')\tWrites to a CSV file"
   ]
  },
  {
   "cell_type": "markdown",
   "metadata": {},
   "source": [
    "## Creating Arrays"
   ]
  },
  {
   "cell_type": "code",
   "execution_count": null,
   "metadata": {},
   "outputs": [],
   "source": [
    "    np.array([1,2,3])                               \t One dimensional array\n",
    "    np.array([(1,2,3),(4,5,6)])                     \t Two dimensional array\n",
    "    np.zeros(3)                                     \t 1D array of length 3 all values 0\n",
    "    np.ones((3,4))                                  \t 3x4 array with all values 1\n",
    "    np.eye(5)                                       \t 5x5 array of 0 with 1 on diagonal (Identity matrix)\n",
    "    np.linspace(0,100,6)                            \t Array of 6 evenly divided values from 0 to 100\n",
    "    np.arange(0,10,3)                               \t Array of values from 0 to less than 10 with step 3 (eg [0,3,6,9])\n",
    "    np.full((2,3),8)                                \t 2x3 array with all values 8\n",
    "    np.random.rand(4,5)                             \t 4x5 array of random floats between 0–1\n",
    "    np.random.rand(6,7)*100                         \t 6x7 array of random floats between 0–100\n",
    "    np.random.randint(5,size=(2,3))                 \t 2x3 array with random ints between 0–4"
   ]
  },
  {
   "cell_type": "markdown",
   "metadata": {},
   "source": [
    "## Inspecting Properties"
   ]
  },
  {
   "cell_type": "code",
   "execution_count": null,
   "metadata": {},
   "outputs": [],
   "source": [
    "    arr.size                         \t Returns number of elements in arr\n",
    "    arr.shape                        \t Returns dimensions of arr (rows,columns)\n",
    "    arr.dtype                        \t Returns type of elements in arr\n",
    "    arr.astype(dtype)                \t Convert arr elements to type dtype\n",
    "    arr.tolist()                     \t Convert arr to a Python list\n",
    "    np.info(np.eye)                  \t View documentation for np.eye"
   ]
  },
  {
   "cell_type": "markdown",
   "metadata": {},
   "source": [
    "## Copying/sorting/reshaping"
   ]
  },
  {
   "cell_type": "code",
   "execution_count": null,
   "metadata": {},
   "outputs": [],
   "source": [
    "    np.copy(arr)                    \t Copies arr to new memory\n",
    "    arr.view(dtype)                 \t Creates view of arr elements with type dtype\n",
    "    arr.sort()                      \t Sorts arr\n",
    "    arr.sort(axis=0)                \t Sorts specific axis of arr\n",
    "    two_d_arr.flatten()             \t Flattens 2D array two_d_arr to 1D\n",
    "    arr.T                           \t Transposes arr (rows become columns and vice versa)\n",
    "    arr.reshape(3,4)                \t Reshapes arr to 3 rows, 4 columns without changing data\n",
    "    arr.resize((5,6))               \t Changes arr shape to 5x6 and fills new values with 0"
   ]
  },
  {
   "cell_type": "markdown",
   "metadata": {},
   "source": [
    "## Adding/removing Elements"
   ]
  },
  {
   "cell_type": "code",
   "execution_count": null,
   "metadata": {},
   "outputs": [],
   "source": [
    "    np.append(arr,values)   \t Appends values to end of arr\n",
    "    np.insert(arr,2,values) \t Inserts values into arr before index 2\n",
    "    np.delete(arr,3,axis=0) \t Deletes row on index 3 of arr\n",
    "    np.delete(arr,4,axis=1) \t Deletes column on index 4 of arr"
   ]
  },
  {
   "cell_type": "markdown",
   "metadata": {},
   "source": [
    "## Combining/splitting"
   ]
  },
  {
   "cell_type": "code",
   "execution_count": null,
   "metadata": {},
   "outputs": [],
   "source": [
    "    np.concatenate((arr1,arr2),axis=0)      \t Adds arr2 as rows to the end of arr1\n",
    "    np.concatenate((arr1,arr2),axis=1)      \t Adds arr2 as columns to end of arr1\n",
    "    np.split(arr,3)                         \t Splits arr into 3 sub-arrays\n",
    "    np.hsplit(arr,5)                        \t Splits arr horizontally on the 5th index"
   ]
  },
  {
   "cell_type": "markdown",
   "metadata": {},
   "source": [
    "## Indexing/slicing/subsetting"
   ]
  },
  {
   "cell_type": "code",
   "execution_count": null,
   "metadata": {},
   "outputs": [],
   "source": [
    "    arr[5]              \t Returns the element at index 5\n",
    "    arr[2,5]            \t Returns the 2D array element on index [2][5]\n",
    "    arr[1]=4            \t Assigns array element on index 1 the value 4\n",
    "    arr[1,3]=10         \t Assigns array element on index [1][3] the value 10\n",
    "    arr[0:3]            \t Returns the elements at indices 0,1,2 (On a 2D array: returns rows 0,1,2)\n",
    "    arr[0:3,4]          \t Returns the elements on rows 0,1,2 at column 4\n",
    "    arr[:2]             \t Returns the elements at indices 0,1 (On a 2D array: returns rows 0,1)\n",
    "    arr[:,1]            \t Returns the elements at index 1 on all rows\n",
    "    arr<5               \t Returns an array with boolean values\n",
    "    (arr1<3) & (arr2>5) \t Returns an array with boolean values\n",
    "    ~arr                \t Inverts a boolean array\n",
    "    arr[arr<5]          \t Returns array elements smaller than 5"
   ]
  },
  {
   "cell_type": "markdown",
   "metadata": {},
   "source": [
    "## Scalar Math"
   ]
  },
  {
   "cell_type": "code",
   "execution_count": null,
   "metadata": {},
   "outputs": [],
   "source": [
    "    np.add(arr,1)           \t Add 1 to each array element\n",
    "    np.subtract(arr,2)      \t Subtract 2 from each array element\n",
    "    np.multiply(arr,3)      \t Multiply each array element by 3\n",
    "    np.divide(arr,4)        \t Divide each array element by 4 (returns np.nan for division by zero)\n",
    "    np.power(arr,5)         \t Raise each array element to the 5th power"
   ]
  },
  {
   "cell_type": "markdown",
   "metadata": {},
   "source": [
    "## Vector Math"
   ]
  },
  {
   "cell_type": "code",
   "execution_count": null,
   "metadata": {},
   "outputs": [],
   "source": [
    "    np.add(arr1,arr2)           \t Elementwise add arr2 to arr1\n",
    "    np.subtract(arr1,arr2)      \t Elementwise subtract arr2 from arr1\n",
    "    np.multiply(arr1,arr2)      \t Elementwise multiply arr1 by arr2\n",
    "    np.divide(arr1,arr2)        \t Elementwise divide arr1 by arr2\n",
    "    np.power(arr1,arr2)         \t Elementwise raise arr1 raised to the power of arr2\n",
    "    np.array_equal(arr1,arr2)   \t Returns True if the arrays have the same elements and shape\n",
    "    np.sqrt(arr)                \t Square root of each element in the array\n",
    "    np.sin(arr)                 \t Sine of each element in the array\n",
    "    np.log(arr)                 \t Natural log of each element in the array\n",
    "    np.abs(arr)                 \t Absolute value of each element in the array\n",
    "    np.ceil(arr)                \t Rounds up to the nearest int\n",
    "    np.floor(arr)               \t Rounds down to the nearest int\n",
    "    np.round(arr)               \t Rounds to the nearest int"
   ]
  },
  {
   "cell_type": "markdown",
   "metadata": {},
   "source": [
    "## Statistics"
   ]
  },
  {
   "cell_type": "code",
   "execution_count": null,
   "metadata": {},
   "outputs": [],
   "source": [
    "    np.mean(arr,axis=0)         \t Returns mean along specific axis\n",
    "    arr.sum()                   \t Returns sum of arr\n",
    "    arr.min()                   \t Returns minimum value of arr\n",
    "    arr.max(axis=0)             \t Returns maximum value of specific axis\n",
    "    np.var(arr)                 \t Returns the variance of array\n",
    "    np.std(arr,axis=1)          \t Returns the standard deviation of specific axis\n",
    "    arr.corrcoef()              \t Returns correlation coefficient of array"
   ]
  }
 ],
 "metadata": {
  "kernelspec": {
   "display_name": "Python 3",
   "language": "python",
   "name": "python3"
  },
  "language_info": {
   "codemirror_mode": {
    "name": "ipython",
    "version": 3
   },
   "file_extension": ".py",
   "mimetype": "text/x-python",
   "name": "python",
   "nbconvert_exporter": "python",
   "pygments_lexer": "ipython3",
   "version": "3.7.4"
  }
 },
 "nbformat": 4,
 "nbformat_minor": 4
}
