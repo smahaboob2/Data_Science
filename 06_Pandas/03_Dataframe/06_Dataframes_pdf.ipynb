{
 "cells": [
  {
   "cell_type": "code",
   "execution_count": 1,
   "metadata": {},
   "outputs": [
    {
     "name": "stdout",
     "output_type": "stream",
     "text": [
      "Collecting git+https://github.com/pdftables/python-pdftables-api.git\n",
      "  Cloning https://github.com/pdftables/python-pdftables-api.git to c:\\temp\\pip-req-build-ryv980sm\n",
      "Requirement already satisfied (use --upgrade to upgrade): pdftables-api==1.1.0 from git+https://github.com/pdftables/python-pdftables-api.git in c:\\users\\sshareef\\appdata\\local\\programs\\python\\python37-32\\lib\\site-packages\n",
      "Requirement already satisfied: requests in c:\\users\\sshareef\\appdata\\local\\programs\\python\\python37-32\\lib\\site-packages (from pdftables-api==1.1.0) (2.20.0)\n",
      "Requirement already satisfied: idna<2.8,>=2.5 in c:\\users\\sshareef\\appdata\\local\\programs\\python\\python37-32\\lib\\site-packages (from requests->pdftables-api==1.1.0) (2.7)\n",
      "Requirement already satisfied: urllib3<1.25,>=1.21.1 in c:\\users\\sshareef\\appdata\\local\\programs\\python\\python37-32\\lib\\site-packages (from requests->pdftables-api==1.1.0) (1.24)\n",
      "Requirement already satisfied: chardet<3.1.0,>=3.0.2 in c:\\users\\sshareef\\appdata\\local\\programs\\python\\python37-32\\lib\\site-packages (from requests->pdftables-api==1.1.0) (3.0.4)\n",
      "Requirement already satisfied: certifi>=2017.4.17 in c:\\users\\sshareef\\appdata\\local\\programs\\python\\python37-32\\lib\\site-packages (from requests->pdftables-api==1.1.0) (2018.10.15)\n",
      "Building wheels for collected packages: pdftables-api\n",
      "  Building wheel for pdftables-api (setup.py): started\n",
      "  Building wheel for pdftables-api (setup.py): finished with status 'done'\n",
      "  Created wheel for pdftables-api: filename=pdftables_api-1.1.0-cp37-none-any.whl size=5928 sha256=b5c02bb30e7747ca268da076405b0fb128009d2d9bd441a1d1d6f92dcb2b1250\n",
      "  Stored in directory: C:\\TEMP\\pip-ephem-wheel-cache-lchlf719\\wheels\\49\\66\\c0\\e4f778e772a77892a98b3aaaba300cbb27a29a07e0c225cd80\n",
      "Successfully built pdftables-api\n"
     ]
    },
    {
     "name": "stderr",
     "output_type": "stream",
     "text": [
      "  Running command git clone -q https://github.com/pdftables/python-pdftables-api.git 'C:\\TEMP\\pip-req-build-ryv980sm'\n"
     ]
    }
   ],
   "source": [
    "!pip install git+https://github.com/pdftables/python-pdftables-api.git"
   ]
  },
  {
   "cell_type": "code",
   "execution_count": 2,
   "metadata": {},
   "outputs": [
    {
     "name": "stderr",
     "output_type": "stream",
     "text": [
      "python: can't open file 'setup.py': [Errno 2] No such file or directory\n"
     ]
    }
   ],
   "source": [
    "!python setup.py install"
   ]
  },
  {
   "cell_type": "code",
   "execution_count": 3,
   "metadata": {},
   "outputs": [],
   "source": [
    "# Create Account in \n",
    "# https://pdftables.com/pdf-to-excel-api"
   ]
  },
  {
   "cell_type": "raw",
   "metadata": {},
   "source": [
    "Sign up for an account at PDFTables.com and then visit the API page to see your API key.\n",
    "\n",
    "Replace my-api-key below with your API key."
   ]
  },
  {
   "cell_type": "code",
   "execution_count": 6,
   "metadata": {},
   "outputs": [],
   "source": [
    "import pdftables_api\n",
    "\n",
    "c = pdftables_api.Client('fs6rkraqpe91')\n",
    "c.xlsx('Data Science course content.pdf', 'output.xlsx')\n",
    "## Check output.xlsx"
   ]
  },
  {
   "cell_type": "code",
   "execution_count": 9,
   "metadata": {},
   "outputs": [],
   "source": [
    "import pdftables_api\n",
    "\n",
    "c = pdftables_api.Client('fs6rkraqpe91')\n",
    "c.html('Data Science course content.pdf', 'output.html')\n",
    "## Check output.html"
   ]
  },
  {
   "cell_type": "code",
   "execution_count": null,
   "metadata": {},
   "outputs": [],
   "source": []
  }
 ],
 "metadata": {
  "kernelspec": {
   "display_name": "Python 3",
   "language": "python",
   "name": "python3"
  },
  "language_info": {
   "codemirror_mode": {
    "name": "ipython",
    "version": 3
   },
   "file_extension": ".py",
   "mimetype": "text/x-python",
   "name": "python",
   "nbconvert_exporter": "python",
   "pygments_lexer": "ipython3",
   "version": "3.7.4"
  }
 },
 "nbformat": 4,
 "nbformat_minor": 4
}
