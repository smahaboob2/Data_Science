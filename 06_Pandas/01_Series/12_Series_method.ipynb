{
 "cells": [
  {
   "cell_type": "markdown",
   "metadata": {},
   "source": [
    "# Python | Pandas Series.combine_first()"
   ]
  },
  {
   "cell_type": "code",
   "execution_count": 1,
   "metadata": {},
   "outputs": [
    {
     "name": "stdout",
     "output_type": "stream",
     "text": [
      "Result 1:\n",
      " 0     70.0\n",
      "1      5.0\n",
      "2      0.0\n",
      "3    225.0\n",
      "4      1.0\n",
      "5     16.0\n",
      "6     53.0\n",
      "7     10.0\n",
      "8      5.0\n",
      "dtype: float64 \n",
      "\n",
      "Result 2:\n",
      " 0    27.0\n",
      "1     5.0\n",
      "2     2.0\n",
      "3    23.0\n",
      "4     1.0\n",
      "5    95.0\n",
      "6    53.0\n",
      "7    10.0\n",
      "8     5.0\n",
      "dtype: float64\n"
     ]
    }
   ],
   "source": [
    "# importing pandas module   \n",
    "import pandas as pd   \n",
    "    \n",
    "# importing numpy module  \n",
    "import numpy as np  \n",
    "    \n",
    "# creating series 1  \n",
    "series1 = pd.Series([70, 5, 0, 225, 1, 16, np.nan, 10, np.nan])  \n",
    "    \n",
    "# creating series 2  \n",
    "series2 = pd.Series([27, np.nan, 2, 23, 1, 95, 53, 10, 5])  \n",
    "  \n",
    "# combining and returning results to variable \n",
    "# calling on series1 \n",
    "result1 = series1.combine_first(series2) \n",
    "  \n",
    "# calling on series2 \n",
    "result2 = series2.combine_first(series1) \n",
    "  \n",
    "# printing result \n",
    "print('Result 1:\\n', result1, '\\n\\nResult 2:\\n', result2) "
   ]
  },
  {
   "cell_type": "markdown",
   "metadata": {},
   "source": [
    "# Python | Pandas Series.le()"
   ]
  },
  {
   "cell_type": "code",
   "execution_count": 2,
   "metadata": {},
   "outputs": [
    {
     "data": {
      "text/plain": [
       "0     True\n",
       "1     True\n",
       "2     True\n",
       "3    False\n",
       "4    False\n",
       "5     True\n",
       "6     True\n",
       "7    False\n",
       "8     True\n",
       "dtype: bool"
      ]
     },
     "execution_count": 2,
     "metadata": {},
     "output_type": "execute_result"
    }
   ],
   "source": [
    "# importing pandas module   \n",
    "import pandas as pd   \n",
    "    \n",
    "# importing numpy module  \n",
    "import numpy as np  \n",
    "    \n",
    "# creating series 1  \n",
    "series1 = pd.Series([11, 0, 2, 43, 9, 27, np.nan, 10, np.nan])  \n",
    "    \n",
    "# creating series 2  \n",
    "series2 = pd.Series([16, np.nan, 2, 23, 5, 40, 54, 3, 19])  \n",
    "  \n",
    "# NaN replacement \n",
    "replace_nan = 10\n",
    "  \n",
    "# calling and returning to result variable \n",
    "result = series1.le(series2, fill_value = replace_nan) \n",
    "  \n",
    "# display  \n",
    "result  "
   ]
  },
  {
   "cell_type": "code",
   "execution_count": 3,
   "metadata": {},
   "outputs": [
    {
     "data": {
      "text/plain": [
       "0     True\n",
       "1     True\n",
       "2     True\n",
       "3    False\n",
       "4    False\n",
       "5    False\n",
       "6     True\n",
       "7    False\n",
       "8     True\n",
       "dtype: bool"
      ]
     },
     "execution_count": 3,
     "metadata": {},
     "output_type": "execute_result"
    }
   ],
   "source": [
    "# importing pandas module   \n",
    "import pandas as pd   \n",
    "    \n",
    "# importing numpy module  \n",
    "import numpy as np  \n",
    "    \n",
    "# creating series 1  \n",
    "series1 = pd.Series(['A', 0, 'c', 43, 9, 'e', np.nan, 'x', np.nan])  \n",
    "    \n",
    "# creating series 2  \n",
    "series2 = pd.Series(['v', np.nan, 'c', 23, 5, 'D', 54, 'p', 19])  \n",
    "  \n",
    "# NaN replacement \n",
    "replace_nan = 10\n",
    "  \n",
    "# calling and returning to result variable \n",
    "result = series1.le(series2, fill_value = replace_nan) \n",
    "  \n",
    "# display  \n",
    "result  "
   ]
  },
  {
   "cell_type": "markdown",
   "metadata": {},
   "source": [
    "# Python | pandas.map()"
   ]
  },
  {
   "cell_type": "code",
   "execution_count": 5,
   "metadata": {},
   "outputs": [
    {
     "ename": "TypeError",
     "evalue": "'DataFrame' object is not callable",
     "output_type": "error",
     "traceback": [
      "\u001b[1;31m---------------------------------------------------------------------------\u001b[0m",
      "\u001b[1;31mTypeError\u001b[0m                                 Traceback (most recent call last)",
      "\u001b[1;32m<ipython-input-5-a273e18d44d2>\u001b[0m in \u001b[0;36m<module>\u001b[1;34m()\u001b[0m\n\u001b[0;32m     11\u001b[0m \u001b[1;33m\u001b[0m\u001b[0m\n\u001b[0;32m     12\u001b[0m \u001b[1;31m#using pandas map function\u001b[0m\u001b[1;33m\u001b[0m\u001b[1;33m\u001b[0m\u001b[1;33m\u001b[0m\u001b[0m\n\u001b[1;32m---> 13\u001b[1;33m \u001b[0mnew\u001b[0m\u001b[1;33m=\u001b[0m\u001b[0mpokemon_names\u001b[0m\u001b[1;33m.\u001b[0m\u001b[0mmap\u001b[0m\u001b[1;33m(\u001b[0m\u001b[0mpokemon_types\u001b[0m\u001b[1;33m)\u001b[0m\u001b[1;33m\u001b[0m\u001b[1;33m\u001b[0m\u001b[0m\n\u001b[0m\u001b[0;32m     14\u001b[0m \u001b[1;33m\u001b[0m\u001b[0m\n\u001b[0;32m     15\u001b[0m \u001b[0mprint\u001b[0m \u001b[1;33m(\u001b[0m\u001b[0mnew\u001b[0m\u001b[1;33m)\u001b[0m\u001b[1;33m\u001b[0m\u001b[1;33m\u001b[0m\u001b[0m\n",
      "\u001b[1;32mc:\\users\\sshareef\\appdata\\local\\programs\\python\\python37-32\\lib\\site-packages\\pandas\\core\\series.py\u001b[0m in \u001b[0;36mmap\u001b[1;34m(self, arg, na_action)\u001b[0m\n\u001b[0;32m   3826\u001b[0m         \u001b[0mdtype\u001b[0m\u001b[1;33m:\u001b[0m \u001b[0mobject\u001b[0m\u001b[1;33m\u001b[0m\u001b[1;33m\u001b[0m\u001b[0m\n\u001b[0;32m   3827\u001b[0m         \"\"\"\n\u001b[1;32m-> 3828\u001b[1;33m         \u001b[0mnew_values\u001b[0m \u001b[1;33m=\u001b[0m \u001b[0msuper\u001b[0m\u001b[1;33m(\u001b[0m\u001b[1;33m)\u001b[0m\u001b[1;33m.\u001b[0m\u001b[0m_map_values\u001b[0m\u001b[1;33m(\u001b[0m\u001b[0marg\u001b[0m\u001b[1;33m,\u001b[0m \u001b[0mna_action\u001b[0m\u001b[1;33m=\u001b[0m\u001b[0mna_action\u001b[0m\u001b[1;33m)\u001b[0m\u001b[1;33m\u001b[0m\u001b[1;33m\u001b[0m\u001b[0m\n\u001b[0m\u001b[0;32m   3829\u001b[0m         \u001b[1;32mreturn\u001b[0m \u001b[0mself\u001b[0m\u001b[1;33m.\u001b[0m\u001b[0m_constructor\u001b[0m\u001b[1;33m(\u001b[0m\u001b[0mnew_values\u001b[0m\u001b[1;33m,\u001b[0m \u001b[0mindex\u001b[0m\u001b[1;33m=\u001b[0m\u001b[0mself\u001b[0m\u001b[1;33m.\u001b[0m\u001b[0mindex\u001b[0m\u001b[1;33m)\u001b[0m\u001b[1;33m.\u001b[0m\u001b[0m__finalize__\u001b[0m\u001b[1;33m(\u001b[0m\u001b[0mself\u001b[0m\u001b[1;33m)\u001b[0m\u001b[1;33m\u001b[0m\u001b[1;33m\u001b[0m\u001b[0m\n\u001b[0;32m   3830\u001b[0m \u001b[1;33m\u001b[0m\u001b[0m\n",
      "\u001b[1;32mc:\\users\\sshareef\\appdata\\local\\programs\\python\\python37-32\\lib\\site-packages\\pandas\\core\\base.py\u001b[0m in \u001b[0;36m_map_values\u001b[1;34m(self, mapper, na_action)\u001b[0m\n\u001b[0;32m   1298\u001b[0m \u001b[1;33m\u001b[0m\u001b[0m\n\u001b[0;32m   1299\u001b[0m         \u001b[1;31m# mapper is a function\u001b[0m\u001b[1;33m\u001b[0m\u001b[1;33m\u001b[0m\u001b[1;33m\u001b[0m\u001b[0m\n\u001b[1;32m-> 1300\u001b[1;33m         \u001b[0mnew_values\u001b[0m \u001b[1;33m=\u001b[0m \u001b[0mmap_f\u001b[0m\u001b[1;33m(\u001b[0m\u001b[0mvalues\u001b[0m\u001b[1;33m,\u001b[0m \u001b[0mmapper\u001b[0m\u001b[1;33m)\u001b[0m\u001b[1;33m\u001b[0m\u001b[1;33m\u001b[0m\u001b[0m\n\u001b[0m\u001b[0;32m   1301\u001b[0m \u001b[1;33m\u001b[0m\u001b[0m\n\u001b[0;32m   1302\u001b[0m         \u001b[1;32mreturn\u001b[0m \u001b[0mnew_values\u001b[0m\u001b[1;33m\u001b[0m\u001b[1;33m\u001b[0m\u001b[0m\n",
      "\u001b[1;32mpandas/_libs/lib.pyx\u001b[0m in \u001b[0;36mpandas._libs.lib.map_infer\u001b[1;34m()\u001b[0m\n",
      "\u001b[1;31mTypeError\u001b[0m: 'DataFrame' object is not callable"
     ]
    }
   ],
   "source": [
    "import pandas as pd \n",
    "  \n",
    "#reading csv files \n",
    "pokemon_names = pd.read_csv(\"student_results.csv\", usecols = [\"Class\"], \n",
    "                                                  squeeze = True) \n",
    "  \n",
    "#usecol is used to use selected columns \n",
    "#index_col is used to make passed column as index \n",
    "pokemon_types = pd.read_csv(\"student_results.csv\", index_col = \"Class\", \n",
    "                                                  squeeze = True) \n",
    "  \n",
    "#using pandas map function \n",
    "new=pokemon_names.map(pokemon_types) \n",
    "  \n",
    "print (new) "
   ]
  },
  {
   "cell_type": "code",
   "execution_count": null,
   "metadata": {},
   "outputs": [],
   "source": []
  }
 ],
 "metadata": {
  "kernelspec": {
   "display_name": "Python 3",
   "language": "python",
   "name": "python3"
  },
  "language_info": {
   "codemirror_mode": {
    "name": "ipython",
    "version": 3
   },
   "file_extension": ".py",
   "mimetype": "text/x-python",
   "name": "python",
   "nbconvert_exporter": "python",
   "pygments_lexer": "ipython3",
   "version": "3.7.4"
  }
 },
 "nbformat": 4,
 "nbformat_minor": 4
}
