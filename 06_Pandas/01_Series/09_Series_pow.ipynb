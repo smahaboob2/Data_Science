{
 "cells": [
  {
   "cell_type": "code",
   "execution_count": 1,
   "metadata": {},
   "outputs": [
    {
     "data": {
      "text/plain": [
       "0     1\n",
       "1     8\n",
       "2    25\n",
       "3     6\n",
       "4    27\n",
       "5    16\n",
       "dtype: int64"
      ]
     },
     "execution_count": 1,
     "metadata": {},
     "output_type": "execute_result"
    }
   ],
   "source": [
    "# importing pandas module \n",
    "import pandas as pd \n",
    "  \n",
    "# creating first series \n",
    "first =[1, 2, 5, 6, 3, 4] \n",
    "  \n",
    "# creating second series \n",
    "second =[5, 3, 2, 1, 3, 2] \n",
    "  \n",
    "# making series \n",
    "first = pd.Series(first) \n",
    "  \n",
    "# making series \n",
    "second = pd.Series(second) \n",
    "  \n",
    "# calling .pow() \n",
    "result = first.pow(second) \n",
    "  \n",
    "# display \n",
    "result "
   ]
  },
  {
   "cell_type": "code",
   "execution_count": 3,
   "metadata": {},
   "outputs": [
    {
     "data": {
      "text/plain": [
       "0      1.0\n",
       "1      4.0\n",
       "2    125.0\n",
       "3     36.0\n",
       "4      9.0\n",
       "5      2.0\n",
       "6     64.0\n",
       "7      4.0\n",
       "dtype: float64"
      ]
     },
     "execution_count": 3,
     "metadata": {},
     "output_type": "execute_result"
    }
   ],
   "source": [
    "# importing pandas module \n",
    "import pandas as pd \n",
    "  \n",
    "# importing numpy module \n",
    "import numpy as np \n",
    "  \n",
    "# creating first series \n",
    "first =[1, 2, 5, 6, 3, np.nan, 4, np.nan] \n",
    "  \n",
    "# creating second series \n",
    "second =[5, np.nan, 3, 2, np.nan, 1, 3, 2] \n",
    "  \n",
    "# making series \n",
    "first = pd.Series(first) \n",
    "  \n",
    "# making seriesa \n",
    "second = pd.Series(second) \n",
    "  \n",
    "# value for null replacement \n",
    "null_replacement = 2\n",
    "  \n",
    "# calling .pow() \n",
    "result = first.pow(second, fill_value = null_replacement) \n",
    "  \n",
    "# display \n",
    "result "
   ]
  },
  {
   "cell_type": "code",
   "execution_count": null,
   "metadata": {},
   "outputs": [],
   "source": []
  }
 ],
 "metadata": {
  "kernelspec": {
   "display_name": "Python 3",
   "language": "python",
   "name": "python3"
  },
  "language_info": {
   "codemirror_mode": {
    "name": "ipython",
    "version": 3
   },
   "file_extension": ".py",
   "mimetype": "text/x-python",
   "name": "python",
   "nbconvert_exporter": "python",
   "pygments_lexer": "ipython3",
   "version": "3.7.4"
  }
 },
 "nbformat": 4,
 "nbformat_minor": 4
}
