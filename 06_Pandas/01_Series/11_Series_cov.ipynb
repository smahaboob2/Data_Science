{
 "cells": [
  {
   "cell_type": "code",
   "execution_count": 1,
   "metadata": {},
   "outputs": [
    {
     "name": "stdout",
     "output_type": "stream",
     "text": [
      "Results from Pandas method:  2.8499999999999996\n",
      "Results from manual function method:  2.8499999999999996\n"
     ]
    }
   ],
   "source": [
    "import pandas as pd \n",
    "  \n",
    "# list  1 \n",
    "a = [2, 3, 2.7, 3.2, 4.1] \n",
    "  \n",
    "# list 2 \n",
    "b = [10, 14, 12, 15, 20] \n",
    "  \n",
    "# storing average of a \n",
    "av_a = sum(a)/len(a) \n",
    "  \n",
    "# storing average of b \n",
    "av_b = sum(b)/len(b) \n",
    "  \n",
    "# making series from list a \n",
    "a = pd.Series(a) \n",
    "  \n",
    "# making series from list b \n",
    "b = pd.Series(b) \n",
    "     \n",
    "# covariance through pandas method \n",
    "covar = a.cov(b) \n",
    "  \n",
    "  \n",
    "# finding covariance manually \n",
    "def covarfn(a, b, av_a, av_b): \n",
    "    cov = 0\n",
    "  \n",
    "    for i in range(0, len(a)): \n",
    "        cov += (a[i] - av_a) * (b[i] - av_b) \n",
    "    return (cov / (len(a)-1)) \n",
    "  \n",
    "# calling function \n",
    "cov = covarfn(a, b, av_a, av_b) \n",
    "  \n",
    "# printing results \n",
    "print(\"Results from Pandas method: \", covar) \n",
    "print(\"Results from manual function method: \", cov) "
   ]
  },
  {
   "cell_type": "code",
   "execution_count": null,
   "metadata": {},
   "outputs": [],
   "source": []
  }
 ],
 "metadata": {
  "kernelspec": {
   "display_name": "Python 3",
   "language": "python",
   "name": "python3"
  },
  "language_info": {
   "codemirror_mode": {
    "name": "ipython",
    "version": 3
   },
   "file_extension": ".py",
   "mimetype": "text/x-python",
   "name": "python",
   "nbconvert_exporter": "python",
   "pygments_lexer": "ipython3",
   "version": "3.7.4"
  }
 },
 "nbformat": 4,
 "nbformat_minor": 4
}
