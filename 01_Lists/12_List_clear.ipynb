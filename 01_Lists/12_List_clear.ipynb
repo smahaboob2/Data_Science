{
 "cells": [
  {
   "cell_type": "markdown",
   "metadata": {},
   "source": [
    "# Example 1: Working of clear() method"
   ]
  },
  {
   "cell_type": "code",
   "execution_count": 1,
   "metadata": {},
   "outputs": [
    {
     "name": "stdout",
     "output_type": "stream",
     "text": [
      "List: []\n"
     ]
    }
   ],
   "source": [
    "# Defining a list\n",
    "list = [{1, 2}, ('a'), ['1.1', '2.2']]\n",
    "\n",
    "# clearing the list\n",
    "list.clear()\n",
    "\n",
    "print('List:', list)"
   ]
  },
  {
   "cell_type": "markdown",
   "metadata": {},
   "source": [
    "# Example 2: Emptying the List Using del"
   ]
  },
  {
   "cell_type": "code",
   "execution_count": 2,
   "metadata": {},
   "outputs": [
    {
     "name": "stdout",
     "output_type": "stream",
     "text": [
      "List: []\n"
     ]
    }
   ],
   "source": [
    "# Defining a list\n",
    "list = [{1, 2}, ('a'), ['1.1', '2.2']]\n",
    "\n",
    "# clearing the list\n",
    "del list[:]\n",
    "\n",
    "print('List:', list)"
   ]
  },
  {
   "cell_type": "code",
   "execution_count": null,
   "metadata": {},
   "outputs": [],
   "source": []
  }
 ],
 "metadata": {
  "kernelspec": {
   "display_name": "Python 3",
   "language": "python",
   "name": "python3"
  },
  "language_info": {
   "codemirror_mode": {
    "name": "ipython",
    "version": 3
   },
   "file_extension": ".py",
   "mimetype": "text/x-python",
   "name": "python",
   "nbconvert_exporter": "python",
   "pygments_lexer": "ipython3",
   "version": "3.7.4"
  }
 },
 "nbformat": 4,
 "nbformat_minor": 4
}
