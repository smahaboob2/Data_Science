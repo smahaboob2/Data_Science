{
 "cells": [
  {
   "cell_type": "markdown",
   "metadata": {},
   "source": [
    "# Example 1: Sort a given list"
   ]
  },
  {
   "cell_type": "code",
   "execution_count": 1,
   "metadata": {},
   "outputs": [
    {
     "name": "stdout",
     "output_type": "stream",
     "text": [
      "Sorted list: ['a', 'e', 'i', 'o', 'u']\n"
     ]
    }
   ],
   "source": [
    "# vowels list\n",
    "vowels = ['e', 'a', 'u', 'o', 'i']\n",
    "\n",
    "# sort the vowels\n",
    "vowels.sort()\n",
    "\n",
    "# print vowels\n",
    "print('Sorted list:', vowels)"
   ]
  },
  {
   "cell_type": "markdown",
   "metadata": {},
   "source": [
    "# Example 2: Sort the list in Descending order"
   ]
  },
  {
   "cell_type": "code",
   "execution_count": 2,
   "metadata": {},
   "outputs": [
    {
     "name": "stdout",
     "output_type": "stream",
     "text": [
      "Sorted list (in Descending): ['u', 'o', 'i', 'e', 'a']\n"
     ]
    }
   ],
   "source": [
    "# vowels list\n",
    "vowels = ['e', 'a', 'u', 'o', 'i']\n",
    "\n",
    "# sort the vowels\n",
    "vowels.sort(reverse=True)\n",
    "\n",
    "# print vowels\n",
    "print('Sorted list (in Descending):', vowels)"
   ]
  },
  {
   "cell_type": "markdown",
   "metadata": {},
   "source": [
    "# Example 3: Sort the list using key"
   ]
  },
  {
   "cell_type": "code",
   "execution_count": 3,
   "metadata": {},
   "outputs": [
    {
     "name": "stdout",
     "output_type": "stream",
     "text": [
      "Sorted list: [(4, 1), (2, 2), (1, 3), (3, 4)]\n"
     ]
    }
   ],
   "source": [
    "# take second element for sort\n",
    "def takeSecond(elem):\n",
    "    return elem[1]\n",
    "\n",
    "# random list\n",
    "random = [(2, 2), (3, 4), (4, 1), (1, 3)]\n",
    "\n",
    "# sort list with key\n",
    "random.sort(key=takeSecond)\n",
    "\n",
    "# print list\n",
    "print('Sorted list:', random)"
   ]
  },
  {
   "cell_type": "code",
   "execution_count": null,
   "metadata": {},
   "outputs": [],
   "source": []
  }
 ],
 "metadata": {
  "kernelspec": {
   "display_name": "Python 3",
   "language": "python",
   "name": "python3"
  },
  "language_info": {
   "codemirror_mode": {
    "name": "ipython",
    "version": 3
   },
   "file_extension": ".py",
   "mimetype": "text/x-python",
   "name": "python",
   "nbconvert_exporter": "python",
   "pygments_lexer": "ipython3",
   "version": "3.7.4"
  }
 },
 "nbformat": 4,
 "nbformat_minor": 4
}
