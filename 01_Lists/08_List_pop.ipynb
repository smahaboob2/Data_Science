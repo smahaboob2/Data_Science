{
 "cells": [
  {
   "cell_type": "markdown",
   "metadata": {},
   "source": [
    "# Example 1: Pop item at the given index from the list"
   ]
  },
  {
   "cell_type": "code",
   "execution_count": 2,
   "metadata": {},
   "outputs": [
    {
     "name": "stdout",
     "output_type": "stream",
     "text": [
      "Return Value: French\n",
      "Updated List: ['Python', 'Java', 'C++', 'C']\n"
     ]
    }
   ],
   "source": [
    "# programming languages list\n",
    "languages = ['Python', 'Java', 'C++', 'French', 'C']\n",
    "\n",
    "# remove and return the 4th item\n",
    "return_value = languages.pop(3)\n",
    "print('Return Value:', return_value)\n",
    "\n",
    "# Updated List\n",
    "print('Updated List:', languages)"
   ]
  },
  {
   "cell_type": "markdown",
   "metadata": {},
   "source": [
    "# Example 2: pop() without an index, and for negative indices"
   ]
  },
  {
   "cell_type": "code",
   "execution_count": 3,
   "metadata": {},
   "outputs": [
    {
     "name": "stdout",
     "output_type": "stream",
     "text": [
      "When index is not passed:\n",
      "Return Value: C\n",
      "Updated List: ['Python', 'Java', 'C++', 'Ruby']\n",
      "\n",
      "When -1 is passed:\n",
      "Return Value: Ruby\n",
      "Updated List: ['Python', 'Java', 'C++']\n",
      "\n",
      "When -3 is passed:\n",
      "Return Value: Python\n",
      "Updated List: ['Java', 'C++']\n"
     ]
    }
   ],
   "source": [
    "# programming languages list\n",
    "languages = ['Python', 'Java', 'C++', 'Ruby', 'C']\n",
    "# remove and return the last item\n",
    "print('When index is not passed:') \n",
    "print('Return Value:', languages.pop())\n",
    "print('Updated List:', languages)\n",
    "# remove and return the last item\n",
    "print('\\nWhen -1 is passed:') \n",
    "print('Return Value:', languages.pop(-1))\n",
    "print('Updated List:', languages)\n",
    "# remove and return the third last item\n",
    "print('\\nWhen -3 is passed:') \n",
    "print('Return Value:', languages.pop(-3))\n",
    "print('Updated List:', languages)"
   ]
  }
 ],
 "metadata": {
  "kernelspec": {
   "display_name": "Python 3",
   "language": "python",
   "name": "python3"
  },
  "language_info": {
   "codemirror_mode": {
    "name": "ipython",
    "version": 3
   },
   "file_extension": ".py",
   "mimetype": "text/x-python",
   "name": "python",
   "nbconvert_exporter": "python",
   "pygments_lexer": "ipython3",
   "version": "3.7.4"
  }
 },
 "nbformat": 4,
 "nbformat_minor": 4
}
