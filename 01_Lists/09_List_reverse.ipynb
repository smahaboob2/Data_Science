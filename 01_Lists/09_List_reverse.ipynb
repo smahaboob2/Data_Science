{
 "cells": [
  {
   "cell_type": "markdown",
   "metadata": {},
   "source": [
    "# Example 1: Reverse a List"
   ]
  },
  {
   "cell_type": "code",
   "execution_count": 2,
   "metadata": {},
   "outputs": [
    {
     "name": "stdout",
     "output_type": "stream",
     "text": [
      "Original List: ['Windows', 'macOS', 'Linux']\n",
      "Updated List: ['Linux', 'macOS', 'Windows']\n"
     ]
    }
   ],
   "source": [
    "# Operating System List\n",
    "os = ['Windows', 'macOS', 'Linux']\n",
    "print('Original List:', os)\n",
    "\n",
    "# List Reverse\n",
    "os.reverse()\n",
    "\n",
    "# updated list\n",
    "print('Updated List:', os)"
   ]
  },
  {
   "cell_type": "markdown",
   "metadata": {},
   "source": [
    "# Example 2: Reverse a List Using Slicing Operator"
   ]
  },
  {
   "cell_type": "code",
   "execution_count": 4,
   "metadata": {},
   "outputs": [
    {
     "name": "stdout",
     "output_type": "stream",
     "text": [
      "Original List: ['Windows', 'macOS', 'Linux']\n",
      "Updated List: ['Linux', 'macOS', 'Windows']\n"
     ]
    }
   ],
   "source": [
    "# Operating System List\n",
    "os = ['Windows', 'macOS', 'Linux']\n",
    "print('Original List:', os)\n",
    "\n",
    "# Reversing a list\t\n",
    "#Syntax: reversed_list = os[start:stop:step] \n",
    "reversed_list = os[::-1]\n",
    "\n",
    "# updated list\n",
    "print('Updated List:', reversed_list)"
   ]
  },
  {
   "cell_type": "markdown",
   "metadata": {},
   "source": [
    "# Example 3: Accessing Individual Elements in Reversed Order"
   ]
  },
  {
   "cell_type": "code",
   "execution_count": 5,
   "metadata": {},
   "outputs": [
    {
     "name": "stdout",
     "output_type": "stream",
     "text": [
      "Linux\n",
      "macOS\n",
      "Windows\n"
     ]
    }
   ],
   "source": [
    "# Operating System List\n",
    "os = ['Windows', 'macOS', 'Linux']\n",
    "\n",
    "# Printing Elements in Reversed Order\n",
    "for o in reversed(os):\n",
    "    print(o)"
   ]
  },
  {
   "cell_type": "code",
   "execution_count": null,
   "metadata": {},
   "outputs": [],
   "source": []
  }
 ],
 "metadata": {
  "kernelspec": {
   "display_name": "Python 3",
   "language": "python",
   "name": "python3"
  },
  "language_info": {
   "codemirror_mode": {
    "name": "ipython",
    "version": 3
   },
   "file_extension": ".py",
   "mimetype": "text/x-python",
   "name": "python",
   "nbconvert_exporter": "python",
   "pygments_lexer": "ipython3",
   "version": "3.7.4"
  }
 },
 "nbformat": 4,
 "nbformat_minor": 4
}
