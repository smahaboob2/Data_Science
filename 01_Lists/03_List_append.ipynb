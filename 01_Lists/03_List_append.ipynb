{
 "cells": [
  {
   "cell_type": "markdown",
   "metadata": {},
   "source": [
    "# Example 1: Adding Element to a List"
   ]
  },
  {
   "cell_type": "code",
   "execution_count": 3,
   "metadata": {},
   "outputs": [
    {
     "name": "stdout",
     "output_type": "stream",
     "text": [
      "Actual animals list:  ['cat', 'dog', 'rabbit']\n",
      "Updated animals list:  ['cat', 'dog', 'rabbit', 'guinea pig']\n"
     ]
    }
   ],
   "source": [
    "# animals list\n",
    "animals = ['cat', 'dog', 'rabbit']\n",
    "print('Actual animals list: ', animals)\n",
    "\n",
    "# 'guinea pig' is appended to the animals list\n",
    "animals.append('guinea pig')\n",
    "\n",
    "# Updated animals list\n",
    "print('Updated animals list: ', animals)"
   ]
  },
  {
   "cell_type": "markdown",
   "metadata": {},
   "source": [
    "# Example 2: Adding List to a List"
   ]
  },
  {
   "cell_type": "code",
   "execution_count": 6,
   "metadata": {},
   "outputs": [
    {
     "name": "stdout",
     "output_type": "stream",
     "text": [
      "Actual animals list:  ['cat', 'dog', 'rabbit']\n",
      "Updated animals list:  ['cat', 'dog', 'rabbit', ['tiger', 'fox']]\n"
     ]
    }
   ],
   "source": [
    "# animals list\n",
    "animals = ['cat', 'dog', 'rabbit']\n",
    "print('Actual animals list: ', animals)\n",
    "\n",
    "# list of wild animals\n",
    "wild_animals = ['tiger', 'fox']\n",
    "\n",
    "# appending wild_animals list to the animals list\n",
    "animals.append(wild_animals)\n",
    "print('Updated animals list: ', animals)"
   ]
  },
  {
   "cell_type": "code",
   "execution_count": null,
   "metadata": {},
   "outputs": [],
   "source": []
  }
 ],
 "metadata": {
  "kernelspec": {
   "display_name": "Python 3",
   "language": "python",
   "name": "python3"
  },
  "language_info": {
   "codemirror_mode": {
    "name": "ipython",
    "version": 3
   },
   "file_extension": ".py",
   "mimetype": "text/x-python",
   "name": "python",
   "nbconvert_exporter": "python",
   "pygments_lexer": "ipython3",
   "version": "3.7.4"
  }
 },
 "nbformat": 4,
 "nbformat_minor": 4
}
